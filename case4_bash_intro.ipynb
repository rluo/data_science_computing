{
 "cells": [
  {
   "cell_type": "markdown",
   "metadata": {},
   "source": [
    "# Bash enabled in Jupyter by Default"
   ]
  },
  {
   "cell_type": "code",
   "execution_count": 1,
   "metadata": {
    "ExecuteTime": {
     "end_time": "2020-03-12T20:07:50.428488Z",
     "start_time": "2020-03-12T20:07:50.240219Z"
    }
   },
   "outputs": [
    {
     "name": "stdout",
     "output_type": "stream",
     "text": [
      "total 64G\r\n",
      "-rw-rw-r-- 1 xi_rossi_luo xi_rossi_luo 2.6G Oct  6  2014  ss13pusa.csv\r\n",
      "-rw-rw-r-- 1 xi_rossi_luo xi_rossi_luo 1.9G Oct  6  2014  ss13pusb.csv\r\n",
      "-rw-rw-r-- 1 xi_rossi_luo xi_rossi_luo 2.1G Oct  6  2014  ss13pusc.csv\r\n",
      "-rw-rw-r-- 1 xi_rossi_luo xi_rossi_luo 2.2G Oct  6  2014  ss13pusd.csv\r\n",
      "-rw-rw-r-- 1 xi_rossi_luo xi_rossi_luo 228K Nov  5  2014  ACS2011-2013_PUMS_README.pdf\r\n",
      "-rwxrwxr-x 1 xi_rossi_luo xi_rossi_luo 1.6G Dec 22  2014  ss13husa.csv\r\n",
      "-rwxrwxr-x 1 xi_rossi_luo xi_rossi_luo 1.2G Dec 22  2014  ss13husb.csv\r\n",
      "-rwxrwxr-x 1 xi_rossi_luo xi_rossi_luo 1.3G Dec 22  2014  ss13husc.csv\r\n",
      "-rwxrwxr-x 1 xi_rossi_luo xi_rossi_luo 1.4G Dec 22  2014  ss13husd.csv\r\n",
      "-rw-rw-r-- 1 xi_rossi_luo xi_rossi_luo  81K Jan  5  2015  ACS2009-2013_PUMS_README.pdf\r\n",
      "-rw-rw-r-- 1 xi_rossi_luo xi_rossi_luo 950M Jan  8  2015  csv_hus.zip\r\n",
      "-rwxrwxr-x 1 xi_rossi_luo xi_rossi_luo 5.3G Feb  5  2015  ss13hus_all.csv\r\n",
      "-rw-rw-r-- 1 xi_rossi_luo xi_rossi_luo  13M Feb  5  2015  ss13hus_bath.csv\r\n",
      "-rw-rw-r-- 1 xi_rossi_luo xi_rossi_luo 1.6G Feb 11  2015  csv_pus.zip\r\n",
      "-rw-rw-r-- 1 xi_rossi_luo xi_rossi_luo 8.7G Feb 11  2015  ss13pus_all.csv\r\n",
      "-rw-rw-r-- 1 xi_rossi_luo xi_rossi_luo 3.8G Feb 11  2015  pub5.bak.db\r\n",
      "-rw-rw-r-- 1 xi_rossi_luo xi_rossi_luo 1.0K Feb 11  2015  pub5new.db-journal\r\n",
      "-rw-rw-r-- 1 xi_rossi_luo xi_rossi_luo 3.5G Feb 12  2015  pub5new.db\r\n",
      "-rw-rw-r-- 1 xi_rossi_luo xi_rossi_luo 3.5G Feb 12  2015  pub5new2.db\r\n",
      "-rw-rw-r-- 1 xi_rossi_luo xi_rossi_luo  13G Feb 12  2015  pub5.db\r\n",
      "-rw-rw-r-- 1 xi_rossi_luo xi_rossi_luo 3.5G Feb 12  2015  hus5.sqlite\r\n",
      "-rw-rw-r-- 1 xi_rossi_luo xi_rossi_luo 3.5G Feb 12  2015  test.db\r\n",
      "-rwxrwxr-x 1 xi_rossi_luo xi_rossi_luo 1.3G Feb  2  2017  ss13hus_all2.csv\r\n",
      "-rw-rw-r-- 1 xi_rossi_luo xi_rossi_luo  13M Feb  2  2017  ss13hus_bath\r\n",
      "-rw-rw-r-- 1 xi_rossi_luo xi_rossi_luo  13M Feb  2  2017  ss13hus_bathnum.csv\r\n",
      "-rw-rw-r-- 1 xi_rossi_luo xi_rossi_luo 1.5G Feb  7  2017  pub5_2017.db\r\n",
      "drwxrwxr-x 3 xi_rossi_luo xi_rossi_luo 4.0K Feb  1  2018  csv2sqlite\r\n",
      "-rwxrwxr-x 1 xi_rossi_luo xi_rossi_luo 397M Feb  1  2018 'ss13hus_all (slbd2018'\\''s conflicted copy 2018-02-06).csv'\r\n",
      "drwxrwxr-x 3 xi_rossi_luo xi_rossi_luo 4.0K Feb  6  2018  .\r\n",
      "drwxr-xr-x 9 xi_rossi_luo xi_rossi_luo 4.0K Mar  6 15:41  ..\r\n"
     ]
    }
   ],
   "source": [
    "!ls -alrth ../data/BD/PUB5"
   ]
  },
  {
   "cell_type": "code",
   "execution_count": 2,
   "metadata": {
    "ExecuteTime": {
     "end_time": "2020-03-12T20:08:30.715216Z",
     "start_time": "2020-03-12T20:08:30.600215Z"
    }
   },
   "outputs": [
    {
     "name": "stdout",
     "output_type": "stream",
     "text": [
      "-rwxrwxr-x 1 xi_rossi_luo xi_rossi_luo 1.6G Dec 22  2014 ../data/BD/PUB5/ss13husa.csv\r\n",
      "-rwxrwxr-x 1 xi_rossi_luo xi_rossi_luo 1.2G Dec 22  2014 ../data/BD/PUB5/ss13husb.csv\r\n",
      "-rwxrwxr-x 1 xi_rossi_luo xi_rossi_luo 1.3G Dec 22  2014 ../data/BD/PUB5/ss13husc.csv\r\n",
      "-rwxrwxr-x 1 xi_rossi_luo xi_rossi_luo 1.4G Dec 22  2014 ../data/BD/PUB5/ss13husd.csv\r\n"
     ]
    }
   ],
   "source": [
    "!ls -alrth ../data/BD/PUB5/ss13hus?.csv"
   ]
  },
  {
   "cell_type": "code",
   "execution_count": 3,
   "metadata": {
    "ExecuteTime": {
     "end_time": "2020-03-12T20:08:49.547204Z",
     "start_time": "2020-03-12T20:08:49.480398Z"
    }
   },
   "outputs": [
    {
     "name": "stdout",
     "output_type": "stream",
     "text": [
      "serialno,insp,RT,DIVISION,PUMA00,PUMA10,REGION,ST,ADJHSG,ADJINC,WGTP,NP,TYPE,ACR,AGS,BATH,BDSP,BLD,BUS,CONP,ELEP,FS,FULP,GASP,HFL,MHP,MRGI,MRGP,MRGT,MRGX,REFR,RMSP,RNTM,RNTP,RWAT,RWATPR,SINK,SMP,STOV,TEL,TEN,TOIL,VACS,VALP,VEH,WATP,YBL,FES,FINCP,FPARC,GRNTP,GRPIP,HHL,HHT,HINCP,HUGCL,HUPAC,HUPAOC,HUPARC,KIT,LNGI,MULTG,MV,NOC,NPF,NPP,NR,NRC,OCPIP,PARTNER,PLM,PSF,R18,R60,R65,RESMODE,SMOCP,SMX,SRNT,SVAL,TAXP,WIF,WKEXREL,WORKSTAT,FACRP,FAGSP,FBATHP,FBDSP,FBLDP,FBUSP,FCONP,FELEP,FFSP,FFULP,FGASP,FHFLP,FINSP,FKITP,FMHP,FMRGIP,FMRGP,FMRGTP,FMRGXP,FMVP,FPLMP,FREFRP,FRMSP,FRNTMP,FRNTP,FRWATP,FRWATPRP,FSINKP,FSMP,FSMXHP,FSMXSP,FSTOVP,FTAXP,FTELP,FTENP,FTOILP,FVACSP,FVALP,FVEHP,FWATP,FYBLP,WGTP1,WGTP2,WGTP3,WGTP4,WGTP5,WGTP6,WGTP7,WGTP8,WGTP9,WGTP10,WGTP11,WGTP12,WGTP13,WGTP14,WGTP15,WGTP16,WGTP17,WGTP18,WGTP19,WGTP20,WGTP21,WGTP22,WGTP23,WGTP24,WGTP25,WGTP26,WGTP27,WGTP28,WGTP29,WGTP30,WGTP31,WGTP32,WGTP33,WGTP34,WGTP35,WGTP36,WGTP37,WGTP38,WGTP39,WGTP40,WGTP41,WGTP42,WGTP43,WGTP44,WGTP45,WGTP46,WGTP47,WGTP48,WGTP49,WGTP50,WGTP51,WGTP52,WGTP53,WGTP54,WGTP55,WGTP56,WGTP57,WGTP58,WGTP59,WGTP60,WGTP61,WGTP62,WGTP63,WGTP64,WGTP65,WGTP66,WGTP67,WGTP68,WGTP69,WGTP70,WGTP71,WGTP72,WGTP73,WGTP74,WGTP75,WGTP76,WGTP77,WGTP78,WGTP79,WGTP80\n",
      "2009000000093,,H,8,00200,-0009,4,16,1086032,1085467,00018,01,1,1,,1,02,02,2,0000,060,2,0002,003,6,,,,,,1,03,,,1,9,1,,1,1,4,1,,,2,0002,09,,,,,,1,4,000000000,0,4,4,4,1,1,1,3,00,,0,0,00,,0,1,0,0,0,0,2,,,1,0,,,,,0,0,0,0,0,0,0,0,0,0,0,0,0,0,0,0,0,0,0,0,0,0,0,0,0,0,0,0,0,0,0,0,0,0,0,0,0,0,0,0,0,00006,00028,00015,00011,00017,00005,00016,00015,00030,00025,00004,00004,00035,00017,00005,00028,00026,00020,00019,00017,00027,00019,00018,00021,00021,00027,00019,00017,00006,00007,00030,00027,00009,00025,00023,00005,00006,00021,00021,00017,00005,00019,00013,00016,00018,00005,00018,00013,00029,00027,00006,00005,00031,00020,00007,00027,00033,00019,00015,00015,00026,00014,00015,00018,00017,00024,00019,00020,00006,00007,00029,00030,00006,00022,00028,00005,00007,00023,00020,00014\n"
     ]
    }
   ],
   "source": [
    "%%bash\n",
    "# Concatenate files together without extra headers\n",
    "# Examine files \n",
    "cd ../data/BD/PUB5\n",
    "head -n 2 ss13husb.csv "
   ]
  },
  {
   "cell_type": "code",
   "execution_count": 5,
   "metadata": {
    "ExecuteTime": {
     "end_time": "2020-03-12T20:10:44.870587Z",
     "start_time": "2020-03-12T20:10:39.001785Z"
    }
   },
   "outputs": [
    {
     "name": "stdout",
     "output_type": "stream",
     "text": [
      "Process is interrupted.\n"
     ]
    }
   ],
   "source": [
    "%%bash\n",
    "cd ../data/BD/PUB5\n",
    "tail -n +2 ss13husb.csv #  | head -n 1 # +2 means starting from the second line, instead of counting from the end (default for tail)"
   ]
  },
  {
   "cell_type": "code",
   "execution_count": 6,
   "metadata": {
    "ExecuteTime": {
     "end_time": "2020-03-12T20:11:24.235253Z",
     "start_time": "2020-03-12T20:11:18.682797Z"
    }
   },
   "outputs": [
    {
     "name": "stdout",
     "output_type": "stream",
     "text": [
      "1608821 ss13husb.csv\n"
     ]
    }
   ],
   "source": [
    "%%bash\n",
    "cd ../data/BD/PUB5\n",
    "\n",
    "wc -l ss13husb.csv\n"
   ]
  },
  {
   "cell_type": "markdown",
   "metadata": {},
   "source": [
    "# Concatenate files "
   ]
  },
  {
   "cell_type": "code",
   "execution_count": null,
   "metadata": {},
   "outputs": [],
   "source": [
    "%%bash \n",
    "cd ../data/BD/PUB5\n",
    "cp ss13husa.csv ss13hus_all20.csv\n",
    "tail -n +2 ss13husb.csv >> ss13hus_all20.csv\n",
    "tail -n +2 ss13husc.csv >> ss13hus_all20.csv\n",
    "tail -n +2 ss13husd.csv >> ss13hus_all20.csv"
   ]
  },
  {
   "cell_type": "markdown",
   "metadata": {},
   "source": [
    "# Validity check"
   ]
  },
  {
   "cell_type": "code",
   "execution_count": 7,
   "metadata": {
    "ExecuteTime": {
     "end_time": "2020-03-12T20:14:58.029796Z",
     "start_time": "2020-03-12T20:13:24.903731Z"
    }
   },
   "outputs": [
    {
     "name": "stdout",
     "output_type": "stream",
     "text": [
      "7219001 ss13hus_all.csv\n",
      "   2090076 ss13husa.csv\n",
      "   1608821 ss13husb.csv\n",
      "   1725673 ss13husc.csv\n",
      "   1794434 ss13husd.csv\n",
      "   7219004 total\n"
     ]
    }
   ],
   "source": [
    "%%bash \n",
    "cd ../data/BD/PUB5\n",
    "\n",
    "wc -l ss13hus_all.csv\n",
    "\n",
    "wc -l ss13hus?.csv \n"
   ]
  },
  {
   "cell_type": "markdown",
   "metadata": {},
   "source": [
    "# Slice horizontally"
   ]
  },
  {
   "cell_type": "code",
   "execution_count": 12,
   "metadata": {},
   "outputs": [
    {
     "name": "stdout",
     "output_type": "stream",
     "text": [
      "2009000122503,00000,H,6,02500,-0009,3,01,1086032,1085467,00020,01,1,1,,1,03,01,2,0000,080,2,0002,003,3,00020,,,,3,1,05,,,1,9,1,,1,1,2,1,,0010000,2,0002,07,,,,,,1,4,000062300,0,4,4,4,1,1,1,4,00,,0,0,00,002,0,1,0,0,0,0,1,00084,,0,0,02,,,,0,0,0,0,0,0,0,0,0,0,0,0,1,0,0,0,0,0,0,0,0,0,0,0,0,0,0,0,0,0,0,0,0,0,0,0,0,0,0,0,0,00028,00008,00029,00024,00004,00006,00028,00019,00024,00016,00017,00030,00027,00006,00033,00019,00027,00023,00006,00027,00024,00006,00028,00024,00006,00005,00026,00026,00017,00018,00017,00033,00023,00006,00033,00020,00028,00018,00006,00007,00021,00040,00005,00020,00045,00037,00016,00024,00018,00017,00024,00007,00018,00033,00006,00017,00006,00020,00034,00007,00017,00028,00007,00025,00028,00033,00019,00017,00020,00019,00018,00006,00025,00038,00007,00022,00005,00017,00025,00027\n",
      "2009000122536,00000,H,6,01800,-0009,3,01,1086032,1085467,00003,03,1,2,1,1,05,01,2,0000,280,2,0002,003,3,00000,2,00360,2,1,1,08,,,1,9,1,,1,1,1,1,,0010000,3,0380,03,2,000060200,4,,,1,1,000060200,0,4,4,4,1,1,1,4,00,03,0,0,00,013,0,1,0,0,0,0,2,00674,3,0,0,02,2,08,03,0,0,0,0,0,0,0,0,0,0,0,0,1,0,0,0,0,0,0,0,0,0,0,0,0,0,0,0,0,0,0,0,0,0,0,0,0,0,0,0,0,00001,00000,00002,00003,00005,00003,00002,00002,00001,00002,00000,00002,00000,00002,00002,00003,00003,00001,00003,00003,00002,00002,00002,00002,00004,00003,00000,00003,00002,00003,00001,00001,00002,00000,00003,00002,00002,00001,00002,00002,00003,00004,00001,00001,00003,00001,00001,00002,00006,00002,00005,00001,00003,00003,00002,00000,00002,00002,00001,00001,00003,00001,00002,00002,00000,00003,00004,00000,00003,00000,00001,00005,00002,00005,00000,00002,00007,00003,00003,00003\n",
      "2009000122606,01200,H,6,00700,-0009,3,01,1086032,1085467,00008,02,1,1,,1,03,02,2,0000,180,2,0500,020,3,,,,,3,1,08,,,1,9,1,,1,1,2,1,,0065000,2,1000,05,3,000043000,4,,,1,1,000043000,0,4,4,4,1,1,1,5,00,02,0,0,00,013,0,1,0,0,2,2,1,00454,,0,1,09,0,09,08,0,0,0,0,0,0,0,0,0,0,0,0,0,0,0,0,0,0,0,0,0,0,0,0,0,0,0,0,0,0,0,0,0,0,0,0,0,0,0,0,0,00003,00007,00012,00008,00012,00003,00008,00019,00018,00008,00007,00007,00005,00012,00003,00006,00019,00002,00009,00018,00014,00007,00003,00006,00002,00013,00008,00002,00004,00009,00008,00012,00006,00008,00012,00006,00002,00009,00010,00003,00003,00008,00016,00007,00015,00003,00007,00016,00012,00005,00011,00009,00009,00007,00002,00010,00011,00002,00007,00011,00007,00007,00003,00007,00004,00010,00008,00003,00002,00006,00007,00006,00008,00009,00013,00008,00004,00014,00005,00002\n",
      "2009000122626,00330,H,6,00700,-0009,3,01,1086032,1085467,00015,01,1,3,1,1,03,02,2,0000,170,2,0002,020,3,,,,,3,1,06,,,1,9,1,,1,1,2,1,,0200000,1,0020,04,,,,,,1,6,000038500,0,4,4,4,1,1,1,7,00,,0,0,00,008,0,1,0,0,1,1,1,00247,,0,0,08,,,,0,0,0,0,0,0,0,0,0,0,0,0,0,0,0,0,0,0,0,0,0,0,0,0,0,0,0,0,0,0,0,0,0,0,0,0,0,0,0,0,0,00014,00004,00004,00006,00004,00010,00004,00012,00004,00015,00015,00021,00015,00005,00004,00013,00021,00006,00017,00012,00031,00016,00019,00015,00014,00022,00013,00025,00012,00031,00024,00018,00021,00011,00015,00024,00025,00020,00032,00003,00019,00007,00005,00004,00005,00018,00004,00012,00005,00018,00015,00011,00015,00004,00003,00013,00016,00006,00017,00011,00020,00016,00016,00014,00019,00020,00013,00026,00012,00029,00030,00019,00026,00014,00012,00029,00029,00014,00024,00004\n",
      "2009000122635,00500,H,6,01800,-0009,3,01,1086032,1085467,00013,01,1,2,1,1,03,02,2,0000,140,2,0002,080,2,,,,,3,1,06,,,1,9,1,,1,1,2,1,,0030000,1,0720,01,,,,,,1,6,000008500,0,4,4,4,1,1,1,7,00,,0,0,00,045,0,1,0,0,1,1,1,00322,,0,1,01,,,,0,0,0,0,0,0,0,0,0,0,0,0,0,0,0,0,0,0,0,0,0,0,0,0,0,0,0,0,0,0,0,0,0,0,0,0,0,0,0,1,0,00018,00017,00010,00016,00017,00025,00014,00016,00003,00018,00004,00013,00017,00008,00004,00005,00015,00010,00003,00012,00004,00011,00004,00004,00016,00009,00022,00012,00014,00029,00010,00018,00007,00004,00012,00024,00014,00020,00015,00004,00016,00005,00012,00014,00018,00003,00010,00005,00021,00013,00020,00014,00016,00010,00021,00020,00004,00014,00016,00015,00017,00014,00024,00023,00003,00010,00004,00010,00014,00004,00010,00003,00026,00019,00010,00018,00014,00004,00014,00021\n",
      "2009000122685,02700,H,6,02000,-0009,3,01,1086032,1085467,00015,02,1,2,1,1,04,02,2,0000,280,2,0002,010,3,,2,01100,2,1,1,11,,,1,9,1,00060,1,1,1,1,,0800000,2,0420,11,4,000049400,4,,,1,1,000049400,0,4,4,4,1,1,1,3,00,02,0,0,00,042,0,1,0,0,2,0,1,01710,2,0,1,01,0,09,09,0,0,0,0,0,0,0,0,0,0,0,0,0,0,0,0,0,0,0,0,0,0,0,0,0,0,0,0,0,0,0,0,0,0,0,0,0,0,0,0,0,00013,00033,00015,00013,00015,00005,00018,00004,00013,00013,00004,00015,00029,00004,00005,00026,00014,00016,00021,00024,00013,00022,00016,00013,00013,00005,00011,00005,00016,00016,00004,00015,00027,00004,00004,00023,00014,00015,00025,00005,00016,00004,00014,00013,00015,00022,00013,00027,00014,00014,00024,00014,00005,00024,00021,00004,00015,00014,00004,00004,00018,00005,00013,00016,00016,00031,00015,00022,00016,00013,00026,00011,00005,00024,00024,00004,00014,00017,00004,00024\n"
     ]
    }
   ],
   "source": [
    "%%bash\n",
    "cd ../data/BD/PUB5\n",
    "\n",
    "head -n 2015 ss13hus_all.csv | tail -n +2010\n"
   ]
  },
  {
   "cell_type": "markdown",
   "metadata": {},
   "source": [
    "# Slice vertically"
   ]
  },
  {
   "cell_type": "code",
   "execution_count": null,
   "metadata": {},
   "outputs": [],
   "source": [
    "%%bash\n",
    "cd ../data/BD/PUB5\n",
    "\n",
    "cat ss13hus_all.csv  | cut -d ',' -f16 | sed '/^$/d' > ss13hus_bath20.csv"
   ]
  },
  {
   "cell_type": "code",
   "execution_count": 13,
   "metadata": {},
   "outputs": [
    {
     "name": "stdout",
     "output_type": "stream",
     "text": [
      "1\n",
      "1\n",
      "1\n",
      "2\n",
      "1\n",
      "1\n",
      "1\n",
      "1\n"
     ]
    }
   ],
   "source": [
    "%%bash\n",
    "cd ../data/BD/PUB5\n",
    "\n",
    "head ss13hus_all.csv  | cut -d ',' -f16 | grep '[0-9]\\{1,\\}' | head \n"
   ]
  },
  {
   "cell_type": "code",
   "execution_count": 8,
   "metadata": {
    "ExecuteTime": {
     "end_time": "2020-03-12T20:17:52.241650Z",
     "start_time": "2020-03-12T20:17:46.977903Z"
    }
   },
   "outputs": [],
   "source": [
    "import pandas as pd"
   ]
  },
  {
   "cell_type": "code",
   "execution_count": 9,
   "metadata": {
    "ExecuteTime": {
     "end_time": "2020-03-12T20:17:56.153678Z",
     "start_time": "2020-03-12T20:17:55.589585Z"
    }
   },
   "outputs": [],
   "source": [
    "bath_pd = pd.read_csv('../data/BD/PUB5/ss13hus_bath.csv')"
   ]
  },
  {
   "cell_type": "code",
   "execution_count": 10,
   "metadata": {
    "ExecuteTime": {
     "end_time": "2020-03-12T20:18:17.201198Z",
     "start_time": "2020-03-12T20:18:17.099171Z"
    }
   },
   "outputs": [
    {
     "data": {
      "text/plain": [
       "1    6524410\n",
       "2      68958\n",
       "Name: BATH, dtype: int64"
      ]
     },
     "execution_count": 10,
     "metadata": {},
     "output_type": "execute_result"
    }
   ],
   "source": [
    "bath_pd.iloc[:, 0].value_counts()"
   ]
  },
  {
   "cell_type": "code",
   "execution_count": null,
   "metadata": {},
   "outputs": [],
   "source": [
    "pd.read_csv('../data/BD/PUB5/ss13hus_all.csv')"
   ]
  },
  {
   "cell_type": "markdown",
   "metadata": {},
   "source": [
    "# Pure python"
   ]
  },
  {
   "cell_type": "code",
   "execution_count": 11,
   "metadata": {
    "ExecuteTime": {
     "end_time": "2020-03-12T20:20:30.415156Z",
     "start_time": "2020-03-12T20:19:12.101449Z"
    }
   },
   "outputs": [],
   "source": [
    "bath = []\n",
    "with open('../data/BD/PUB5/ss13hus_all.csv', 'r') as f:\n",
    "    next(f)\n",
    "    for line in f:\n",
    "        val = line.split(',')[15]\n",
    "        if val is not '':\n",
    "            bath.append( int( val ) )\n",
    "        else:\n",
    "            bath.append( -1 )"
   ]
  },
  {
   "cell_type": "code",
   "execution_count": 22,
   "metadata": {},
   "outputs": [
    {
     "data": {
      "text/plain": [
       "True"
      ]
     },
     "execution_count": 22,
     "metadata": {},
     "output_type": "execute_result"
    }
   ],
   "source": [
    "bath[1] == ''"
   ]
  },
  {
   "cell_type": "code",
   "execution_count": 12,
   "metadata": {
    "ExecuteTime": {
     "end_time": "2020-03-12T20:21:11.006489Z",
     "start_time": "2020-03-12T20:21:10.406060Z"
    }
   },
   "outputs": [],
   "source": [
    "import numpy as np\n",
    "bath_np = np.asarray(bath, dtype=np.int)"
   ]
  },
  {
   "cell_type": "code",
   "execution_count": 13,
   "metadata": {
    "ExecuteTime": {
     "end_time": "2020-03-12T20:21:11.995984Z",
     "start_time": "2020-03-12T20:21:11.785506Z"
    }
   },
   "outputs": [
    {
     "data": {
      "text/plain": [
       "(array([-1,  1,  2]), array([ 625632, 6524410,   68958]))"
      ]
     },
     "execution_count": 13,
     "metadata": {},
     "output_type": "execute_result"
    }
   ],
   "source": [
    "np.unique(bath_np, return_counts=True)"
   ]
  },
  {
   "cell_type": "markdown",
   "metadata": {},
   "source": [
    "# Concatenate multiple files"
   ]
  },
  {
   "cell_type": "code",
   "execution_count": 1,
   "metadata": {
    "ExecuteTime": {
     "end_time": "2020-03-24T19:22:23.599721Z",
     "start_time": "2020-03-24T19:22:23.471968Z"
    }
   },
   "outputs": [
    {
     "name": "stdout",
     "output_type": "stream",
     "text": [
      "Archive:  csv_hak.zip\n"
     ]
    },
    {
     "name": "stderr",
     "output_type": "stream",
     "text": [
      "caution: filename not matched:  csv_hal.zip\n",
      "caution: filename not matched:  csv_har.zip\n",
      "caution: filename not matched:  csv_haz.zip\n",
      "caution: filename not matched:  csv_hca.zip\n",
      "caution: filename not matched:  csv_hco.zip\n",
      "caution: filename not matched:  csv_hct.zip\n",
      "caution: filename not matched:  csv_hdc.zip\n",
      "caution: filename not matched:  csv_hde.zip\n",
      "caution: filename not matched:  csv_hfl.zip\n",
      "caution: filename not matched:  csv_hga.zip\n",
      "caution: filename not matched:  csv_hhi.zip\n",
      "caution: filename not matched:  csv_hia.zip\n",
      "caution: filename not matched:  csv_hid.zip\n",
      "caution: filename not matched:  csv_hil.zip\n",
      "caution: filename not matched:  csv_hin.zip\n",
      "caution: filename not matched:  csv_hks.zip\n",
      "caution: filename not matched:  csv_hky.zip\n",
      "caution: filename not matched:  csv_hla.zip\n",
      "caution: filename not matched:  csv_hma.zip\n",
      "caution: filename not matched:  csv_hmd.zip\n",
      "caution: filename not matched:  csv_hme.zip\n",
      "caution: filename not matched:  csv_hmi.zip\n",
      "caution: filename not matched:  csv_hmn.zip\n",
      "caution: filename not matched:  csv_hmo.zip\n",
      "caution: filename not matched:  csv_hms.zip\n",
      "caution: filename not matched:  csv_hmt.zip\n",
      "caution: filename not matched:  csv_hnc.zip\n",
      "caution: filename not matched:  csv_hnd.zip\n",
      "caution: filename not matched:  csv_hne.zip\n",
      "caution: filename not matched:  csv_hnh.zip\n",
      "caution: filename not matched:  csv_hnj.zip\n",
      "caution: filename not matched:  csv_hnm.zip\n",
      "caution: filename not matched:  csv_hnv.zip\n",
      "caution: filename not matched:  csv_hny.zip\n",
      "caution: filename not matched:  csv_hoh.zip\n",
      "caution: filename not matched:  csv_hok.zip\n",
      "caution: filename not matched:  csv_hor.zip\n",
      "caution: filename not matched:  csv_hpa.zip\n",
      "caution: filename not matched:  csv_hpr.zip\n",
      "caution: filename not matched:  csv_hri.zip\n",
      "caution: filename not matched:  csv_hsc.zip\n",
      "caution: filename not matched:  csv_hsd.zip\n",
      "caution: filename not matched:  csv_htn.zip\n",
      "caution: filename not matched:  csv_htx.zip\n",
      "caution: filename not matched:  csv_hut.zip\n",
      "caution: filename not matched:  csv_hva.zip\n",
      "caution: filename not matched:  csv_hvt.zip\n",
      "caution: filename not matched:  csv_hwa.zip\n",
      "caution: filename not matched:  csv_hwi.zip\n",
      "caution: filename not matched:  csv_hwv.zip\n",
      "caution: filename not matched:  csv_hwy.zip\n",
      "caution: filename not matched:  csv_pak.zip\n",
      "caution: filename not matched:  csv_pal.zip\n",
      "caution: filename not matched:  csv_par.zip\n",
      "caution: filename not matched:  csv_paz.zip\n",
      "caution: filename not matched:  csv_pca.zip\n",
      "caution: filename not matched:  csv_pco.zip\n",
      "caution: filename not matched:  csv_pct.zip\n",
      "caution: filename not matched:  csv_pdc.zip\n",
      "caution: filename not matched:  csv_pde.zip\n",
      "caution: filename not matched:  csv_pfl.zip\n",
      "caution: filename not matched:  csv_pga.zip\n",
      "caution: filename not matched:  csv_phi.zip\n",
      "caution: filename not matched:  csv_pia.zip\n",
      "caution: filename not matched:  csv_pid.zip\n",
      "caution: filename not matched:  csv_pil.zip\n",
      "caution: filename not matched:  csv_pin.zip\n",
      "caution: filename not matched:  csv_pks.zip\n",
      "caution: filename not matched:  csv_pky.zip\n",
      "caution: filename not matched:  csv_pla.zip\n",
      "caution: filename not matched:  csv_pma.zip\n",
      "caution: filename not matched:  csv_pmd.zip\n",
      "caution: filename not matched:  csv_pme.zip\n",
      "caution: filename not matched:  csv_pmi.zip\n",
      "caution: filename not matched:  csv_pmn.zip\n",
      "caution: filename not matched:  csv_pmo.zip\n",
      "caution: filename not matched:  csv_pms.zip\n",
      "caution: filename not matched:  csv_pmt.zip\n",
      "caution: filename not matched:  csv_pnc.zip\n",
      "caution: filename not matched:  csv_pnd.zip\n",
      "caution: filename not matched:  csv_pne.zip\n",
      "caution: filename not matched:  csv_pnh.zip\n",
      "caution: filename not matched:  csv_pnj.zip\n",
      "caution: filename not matched:  csv_pnm.zip\n",
      "caution: filename not matched:  csv_pnv.zip\n",
      "caution: filename not matched:  csv_pny.zip\n",
      "caution: filename not matched:  csv_poh.zip\n",
      "caution: filename not matched:  csv_pok.zip\n",
      "caution: filename not matched:  csv_por.zip\n",
      "caution: filename not matched:  csv_ppa.zip\n",
      "caution: filename not matched:  csv_ppr.zip\n",
      "caution: filename not matched:  csv_pri.zip\n",
      "caution: filename not matched:  csv_psc.zip\n",
      "caution: filename not matched:  csv_psd.zip\n",
      "caution: filename not matched:  csv_ptn.zip\n",
      "caution: filename not matched:  csv_ptx.zip\n",
      "caution: filename not matched:  csv_put.zip\n",
      "caution: filename not matched:  csv_pva.zip\n",
      "caution: filename not matched:  csv_pvt.zip\n",
      "caution: filename not matched:  csv_pwa.zip\n",
      "caution: filename not matched:  csv_pwi.zip\n",
      "caution: filename not matched:  csv_pwv.zip\n",
      "caution: filename not matched:  csv_pwy.zip\n"
     ]
    },
    {
     "ename": "CalledProcessError",
     "evalue": "Command 'b'cd ../data/BD/PUB3\\n\\n# unzip all the files \\n\\nunzip *.zip\\n# you may also try find if too many files\\n'' returned non-zero exit status 11.",
     "output_type": "error",
     "traceback": [
      "\u001b[0;31m---------------------------------------------------------------------------\u001b[0m",
      "\u001b[0;31mCalledProcessError\u001b[0m                        Traceback (most recent call last)",
      "\u001b[0;32m<ipython-input-1-4a18f7464a34>\u001b[0m in \u001b[0;36m<module>\u001b[0;34m\u001b[0m\n\u001b[0;32m----> 1\u001b[0;31m \u001b[0mget_ipython\u001b[0m\u001b[0;34m(\u001b[0m\u001b[0;34m)\u001b[0m\u001b[0;34m.\u001b[0m\u001b[0mrun_cell_magic\u001b[0m\u001b[0;34m(\u001b[0m\u001b[0;34m'bash'\u001b[0m\u001b[0;34m,\u001b[0m \u001b[0;34m''\u001b[0m\u001b[0;34m,\u001b[0m \u001b[0;34m'cd ../data/BD/PUB3\\n\\n# unzip all the files \\n\\nunzip *.zip\\n# you may also try find if too many files\\n'\u001b[0m\u001b[0;34m)\u001b[0m\u001b[0;34m\u001b[0m\u001b[0;34m\u001b[0m\u001b[0m\n\u001b[0m",
      "\u001b[0;32m~/anaconda3/lib/python3.7/site-packages/IPython/core/interactiveshell.py\u001b[0m in \u001b[0;36mrun_cell_magic\u001b[0;34m(self, magic_name, line, cell)\u001b[0m\n\u001b[1;32m   2357\u001b[0m             \u001b[0;32mwith\u001b[0m \u001b[0mself\u001b[0m\u001b[0;34m.\u001b[0m\u001b[0mbuiltin_trap\u001b[0m\u001b[0;34m:\u001b[0m\u001b[0;34m\u001b[0m\u001b[0;34m\u001b[0m\u001b[0m\n\u001b[1;32m   2358\u001b[0m                 \u001b[0margs\u001b[0m \u001b[0;34m=\u001b[0m \u001b[0;34m(\u001b[0m\u001b[0mmagic_arg_s\u001b[0m\u001b[0;34m,\u001b[0m \u001b[0mcell\u001b[0m\u001b[0;34m)\u001b[0m\u001b[0;34m\u001b[0m\u001b[0;34m\u001b[0m\u001b[0m\n\u001b[0;32m-> 2359\u001b[0;31m                 \u001b[0mresult\u001b[0m \u001b[0;34m=\u001b[0m \u001b[0mfn\u001b[0m\u001b[0;34m(\u001b[0m\u001b[0;34m*\u001b[0m\u001b[0margs\u001b[0m\u001b[0;34m,\u001b[0m \u001b[0;34m**\u001b[0m\u001b[0mkwargs\u001b[0m\u001b[0;34m)\u001b[0m\u001b[0;34m\u001b[0m\u001b[0;34m\u001b[0m\u001b[0m\n\u001b[0m\u001b[1;32m   2360\u001b[0m             \u001b[0;32mreturn\u001b[0m \u001b[0mresult\u001b[0m\u001b[0;34m\u001b[0m\u001b[0;34m\u001b[0m\u001b[0m\n\u001b[1;32m   2361\u001b[0m \u001b[0;34m\u001b[0m\u001b[0m\n",
      "\u001b[0;32m~/anaconda3/lib/python3.7/site-packages/IPython/core/magics/script.py\u001b[0m in \u001b[0;36mnamed_script_magic\u001b[0;34m(line, cell)\u001b[0m\n\u001b[1;32m    140\u001b[0m             \u001b[0;32melse\u001b[0m\u001b[0;34m:\u001b[0m\u001b[0;34m\u001b[0m\u001b[0;34m\u001b[0m\u001b[0m\n\u001b[1;32m    141\u001b[0m                 \u001b[0mline\u001b[0m \u001b[0;34m=\u001b[0m \u001b[0mscript\u001b[0m\u001b[0;34m\u001b[0m\u001b[0;34m\u001b[0m\u001b[0m\n\u001b[0;32m--> 142\u001b[0;31m             \u001b[0;32mreturn\u001b[0m \u001b[0mself\u001b[0m\u001b[0;34m.\u001b[0m\u001b[0mshebang\u001b[0m\u001b[0;34m(\u001b[0m\u001b[0mline\u001b[0m\u001b[0;34m,\u001b[0m \u001b[0mcell\u001b[0m\u001b[0;34m)\u001b[0m\u001b[0;34m\u001b[0m\u001b[0;34m\u001b[0m\u001b[0m\n\u001b[0m\u001b[1;32m    143\u001b[0m \u001b[0;34m\u001b[0m\u001b[0m\n\u001b[1;32m    144\u001b[0m         \u001b[0;31m# write a basic docstring:\u001b[0m\u001b[0;34m\u001b[0m\u001b[0;34m\u001b[0m\u001b[0;34m\u001b[0m\u001b[0m\n",
      "\u001b[0;32m</home/xi_rossi_luo/anaconda3/lib/python3.7/site-packages/decorator.py:decorator-gen-110>\u001b[0m in \u001b[0;36mshebang\u001b[0;34m(self, line, cell)\u001b[0m\n",
      "\u001b[0;32m~/anaconda3/lib/python3.7/site-packages/IPython/core/magic.py\u001b[0m in \u001b[0;36m<lambda>\u001b[0;34m(f, *a, **k)\u001b[0m\n\u001b[1;32m    185\u001b[0m     \u001b[0;31m# but it's overkill for just that one bit of state.\u001b[0m\u001b[0;34m\u001b[0m\u001b[0;34m\u001b[0m\u001b[0;34m\u001b[0m\u001b[0m\n\u001b[1;32m    186\u001b[0m     \u001b[0;32mdef\u001b[0m \u001b[0mmagic_deco\u001b[0m\u001b[0;34m(\u001b[0m\u001b[0marg\u001b[0m\u001b[0;34m)\u001b[0m\u001b[0;34m:\u001b[0m\u001b[0;34m\u001b[0m\u001b[0;34m\u001b[0m\u001b[0m\n\u001b[0;32m--> 187\u001b[0;31m         \u001b[0mcall\u001b[0m \u001b[0;34m=\u001b[0m \u001b[0;32mlambda\u001b[0m \u001b[0mf\u001b[0m\u001b[0;34m,\u001b[0m \u001b[0;34m*\u001b[0m\u001b[0ma\u001b[0m\u001b[0;34m,\u001b[0m \u001b[0;34m**\u001b[0m\u001b[0mk\u001b[0m\u001b[0;34m:\u001b[0m \u001b[0mf\u001b[0m\u001b[0;34m(\u001b[0m\u001b[0;34m*\u001b[0m\u001b[0ma\u001b[0m\u001b[0;34m,\u001b[0m \u001b[0;34m**\u001b[0m\u001b[0mk\u001b[0m\u001b[0;34m)\u001b[0m\u001b[0;34m\u001b[0m\u001b[0;34m\u001b[0m\u001b[0m\n\u001b[0m\u001b[1;32m    188\u001b[0m \u001b[0;34m\u001b[0m\u001b[0m\n\u001b[1;32m    189\u001b[0m         \u001b[0;32mif\u001b[0m \u001b[0mcallable\u001b[0m\u001b[0;34m(\u001b[0m\u001b[0marg\u001b[0m\u001b[0;34m)\u001b[0m\u001b[0;34m:\u001b[0m\u001b[0;34m\u001b[0m\u001b[0;34m\u001b[0m\u001b[0m\n",
      "\u001b[0;32m~/anaconda3/lib/python3.7/site-packages/IPython/core/magics/script.py\u001b[0m in \u001b[0;36mshebang\u001b[0;34m(self, line, cell)\u001b[0m\n\u001b[1;32m    243\u001b[0m             \u001b[0msys\u001b[0m\u001b[0;34m.\u001b[0m\u001b[0mstderr\u001b[0m\u001b[0;34m.\u001b[0m\u001b[0mflush\u001b[0m\u001b[0;34m(\u001b[0m\u001b[0;34m)\u001b[0m\u001b[0;34m\u001b[0m\u001b[0;34m\u001b[0m\u001b[0m\n\u001b[1;32m    244\u001b[0m         \u001b[0;32mif\u001b[0m \u001b[0margs\u001b[0m\u001b[0;34m.\u001b[0m\u001b[0mraise_error\u001b[0m \u001b[0;32mand\u001b[0m \u001b[0mp\u001b[0m\u001b[0;34m.\u001b[0m\u001b[0mreturncode\u001b[0m\u001b[0;34m!=\u001b[0m\u001b[0;36m0\u001b[0m\u001b[0;34m:\u001b[0m\u001b[0;34m\u001b[0m\u001b[0;34m\u001b[0m\u001b[0m\n\u001b[0;32m--> 245\u001b[0;31m             \u001b[0;32mraise\u001b[0m \u001b[0mCalledProcessError\u001b[0m\u001b[0;34m(\u001b[0m\u001b[0mp\u001b[0m\u001b[0;34m.\u001b[0m\u001b[0mreturncode\u001b[0m\u001b[0;34m,\u001b[0m \u001b[0mcell\u001b[0m\u001b[0;34m,\u001b[0m \u001b[0moutput\u001b[0m\u001b[0;34m=\u001b[0m\u001b[0mout\u001b[0m\u001b[0;34m,\u001b[0m \u001b[0mstderr\u001b[0m\u001b[0;34m=\u001b[0m\u001b[0merr\u001b[0m\u001b[0;34m)\u001b[0m\u001b[0;34m\u001b[0m\u001b[0;34m\u001b[0m\u001b[0m\n\u001b[0m\u001b[1;32m    246\u001b[0m \u001b[0;34m\u001b[0m\u001b[0m\n\u001b[1;32m    247\u001b[0m     \u001b[0;32mdef\u001b[0m \u001b[0m_run_script\u001b[0m\u001b[0;34m(\u001b[0m\u001b[0mself\u001b[0m\u001b[0;34m,\u001b[0m \u001b[0mp\u001b[0m\u001b[0;34m,\u001b[0m \u001b[0mcell\u001b[0m\u001b[0;34m,\u001b[0m \u001b[0mto_close\u001b[0m\u001b[0;34m)\u001b[0m\u001b[0;34m:\u001b[0m\u001b[0;34m\u001b[0m\u001b[0;34m\u001b[0m\u001b[0m\n",
      "\u001b[0;31mCalledProcessError\u001b[0m: Command 'b'cd ../data/BD/PUB3\\n\\n# unzip all the files \\n\\nunzip *.zip\\n# you may also try find if too many files\\n'' returned non-zero exit status 11."
     ]
    }
   ],
   "source": [
    "%%bash\n",
    "cd ../data/BD/PUB3\n",
    "\n",
    "# unzip all the files \n",
    "\n",
    "unzip *.zip\n",
    "# you may also try find if too many files"
   ]
  },
  {
   "cell_type": "code",
   "execution_count": 3,
   "metadata": {
    "ExecuteTime": {
     "end_time": "2020-03-24T19:23:20.105326Z",
     "start_time": "2020-03-24T19:23:20.092078Z"
    }
   },
   "outputs": [
    {
     "name": "stdout",
     "output_type": "stream",
     "text": [
      "csv_hak.zip\n",
      "csv_hal.zip\n",
      "csv_har.zip\n",
      "csv_haz.zip\n",
      "csv_hca.zip\n",
      "csv_hco.zip\n",
      "csv_hct.zip\n",
      "csv_hdc.zip\n",
      "csv_hde.zip\n",
      "csv_hfl.zip\n",
      "csv_hga.zip\n",
      "csv_hhi.zip\n",
      "csv_hia.zip\n",
      "csv_hid.zip\n",
      "csv_hil.zip\n",
      "csv_hin.zip\n",
      "csv_hks.zip\n",
      "csv_hky.zip\n",
      "csv_hla.zip\n",
      "csv_hma.zip\n",
      "csv_hmd.zip\n",
      "csv_hme.zip\n",
      "csv_hmi.zip\n",
      "csv_hmn.zip\n",
      "csv_hmo.zip\n",
      "csv_hms.zip\n",
      "csv_hmt.zip\n",
      "csv_hnc.zip\n",
      "csv_hnd.zip\n",
      "csv_hne.zip\n",
      "csv_hnh.zip\n",
      "csv_hnj.zip\n",
      "csv_hnm.zip\n",
      "csv_hnv.zip\n",
      "csv_hny.zip\n",
      "csv_hoh.zip\n",
      "csv_hok.zip\n",
      "csv_hor.zip\n",
      "csv_hpa.zip\n",
      "csv_hpr.zip\n",
      "csv_hri.zip\n",
      "csv_hsc.zip\n",
      "csv_hsd.zip\n",
      "csv_htn.zip\n",
      "csv_htx.zip\n",
      "csv_hut.zip\n",
      "csv_hva.zip\n",
      "csv_hvt.zip\n",
      "csv_hwa.zip\n",
      "csv_hwi.zip\n",
      "csv_hwv.zip\n",
      "csv_hwy.zip\n",
      "csv_pak.zip\n",
      "csv_pal.zip\n",
      "csv_par.zip\n",
      "csv_paz.zip\n",
      "csv_pca.zip\n",
      "csv_pco.zip\n",
      "csv_pct.zip\n",
      "csv_pdc.zip\n",
      "csv_pde.zip\n",
      "csv_pfl.zip\n",
      "csv_pga.zip\n",
      "csv_phi.zip\n",
      "csv_pia.zip\n",
      "csv_pid.zip\n",
      "csv_pil.zip\n",
      "csv_pin.zip\n",
      "csv_pks.zip\n",
      "csv_pky.zip\n",
      "csv_pla.zip\n",
      "csv_pma.zip\n",
      "csv_pmd.zip\n",
      "csv_pme.zip\n",
      "csv_pmi.zip\n",
      "csv_pmn.zip\n",
      "csv_pmo.zip\n",
      "csv_pms.zip\n",
      "csv_pmt.zip\n",
      "csv_pnc.zip\n",
      "csv_pnd.zip\n",
      "csv_pne.zip\n",
      "csv_pnh.zip\n",
      "csv_pnj.zip\n",
      "csv_pnm.zip\n",
      "csv_pnv.zip\n",
      "csv_pny.zip\n",
      "csv_poh.zip\n",
      "csv_pok.zip\n",
      "csv_por.zip\n",
      "csv_ppa.zip\n",
      "csv_ppr.zip\n",
      "csv_pri.zip\n",
      "csv_psc.zip\n",
      "csv_psd.zip\n",
      "csv_ptn.zip\n",
      "csv_ptx.zip\n",
      "csv_put.zip\n",
      "csv_pva.zip\n",
      "csv_pvt.zip\n",
      "csv_pwa.zip\n",
      "csv_pwi.zip\n",
      "csv_pwv.zip\n",
      "csv_pwy.zip\n"
     ]
    }
   ],
   "source": [
    "%%bash\n",
    "cd ../data/BD/PUB3\n",
    "\n",
    "for f in *.zip; do\n",
    "    echo $f\n",
    "done"
   ]
  },
  {
   "cell_type": "code",
   "execution_count": null,
   "metadata": {},
   "outputs": [],
   "source": [
    "%%bash \n",
    "cd ../data/BD/PUB3\n",
    "\n",
    "for f in *.zip; do \n",
    "    unzip ${f} -x *.pdf\n",
    "done"
   ]
  },
  {
   "cell_type": "code",
   "execution_count": 9,
   "metadata": {
    "ExecuteTime": {
     "end_time": "2020-03-24T19:32:41.306912Z",
     "start_time": "2020-03-24T19:32:41.287364Z"
    }
   },
   "outputs": [
    {
     "name": "stdout",
     "output_type": "stream",
     "text": [
      "processing ak_h.csv\n",
      "mv ak_h.csv h_ak.csv\n",
      "processing ak_p.csv\n",
      "mv ak_p.csv p_ak.csv\n",
      "processing al_h.csv\n",
      "mv al_h.csv h_al.csv\n",
      "processing al_p.csv\n",
      "mv al_p.csv p_al.csv\n",
      "processing ar_h.csv\n",
      "mv ar_h.csv h_ar.csv\n",
      "processing ar_p.csv\n",
      "mv ar_p.csv p_ar.csv\n",
      "processing az_h.csv\n",
      "mv az_h.csv h_az.csv\n",
      "processing az_p.csv\n",
      "mv az_p.csv p_az.csv\n",
      "processing ca_h.csv\n",
      "mv ca_h.csv h_ca.csv\n",
      "processing ca_p.csv\n",
      "mv ca_p.csv p_ca.csv\n",
      "processing co_h.csv\n",
      "mv co_h.csv h_co.csv\n",
      "processing co_p.csv\n",
      "mv co_p.csv p_co.csv\n",
      "processing ct_h.csv\n",
      "mv ct_h.csv h_ct.csv\n",
      "processing ct_p.csv\n",
      "mv ct_p.csv p_ct.csv\n",
      "processing dc_h.csv\n",
      "mv dc_h.csv h_dc.csv\n",
      "processing dc_p.csv\n",
      "mv dc_p.csv p_dc.csv\n",
      "processing de_h.csv\n",
      "mv de_h.csv h_de.csv\n",
      "processing de_p.csv\n",
      "mv de_p.csv p_de.csv\n",
      "processing fl_h.csv\n",
      "mv fl_h.csv h_fl.csv\n",
      "processing fl_p.csv\n",
      "mv fl_p.csv p_fl.csv\n",
      "processing ga_h.csv\n",
      "mv ga_h.csv h_ga.csv\n",
      "processing ga_p.csv\n",
      "mv ga_p.csv p_ga.csv\n",
      "processing hi_h.csv\n",
      "mv hi_h.csv h_hi.csv\n",
      "processing hi_p.csv\n",
      "mv hi_p.csv p_hi.csv\n",
      "processing ia_h.csv\n",
      "mv ia_h.csv h_ia.csv\n",
      "processing ia_p.csv\n",
      "mv ia_p.csv p_ia.csv\n",
      "processing id_h.csv\n",
      "mv id_h.csv h_id.csv\n",
      "processing id_p.csv\n",
      "mv id_p.csv p_id.csv\n",
      "processing il_h.csv\n",
      "mv il_h.csv h_il.csv\n",
      "processing il_p.csv\n",
      "mv il_p.csv p_il.csv\n",
      "processing in_h.csv\n",
      "mv in_h.csv h_in.csv\n",
      "processing in_p.csv\n",
      "mv in_p.csv p_in.csv\n",
      "processing ks_h.csv\n",
      "mv ks_h.csv h_ks.csv\n",
      "processing ks_p.csv\n",
      "mv ks_p.csv p_ks.csv\n",
      "processing ky_h.csv\n",
      "mv ky_h.csv h_ky.csv\n",
      "processing ky_p.csv\n",
      "mv ky_p.csv p_ky.csv\n",
      "processing la_h.csv\n",
      "mv la_h.csv h_la.csv\n",
      "processing la_p.csv\n",
      "mv la_p.csv p_la.csv\n",
      "processing ma_h.csv\n",
      "mv ma_h.csv h_ma.csv\n",
      "processing ma_p.csv\n",
      "mv ma_p.csv p_ma.csv\n",
      "processing md_h.csv\n",
      "mv md_h.csv h_md.csv\n",
      "processing md_p.csv\n",
      "mv md_p.csv p_md.csv\n",
      "processing me_h.csv\n",
      "mv me_h.csv h_me.csv\n",
      "processing me_p.csv\n",
      "mv me_p.csv p_me.csv\n",
      "processing mi_h.csv\n",
      "mv mi_h.csv h_mi.csv\n",
      "processing mi_p.csv\n",
      "mv mi_p.csv p_mi.csv\n",
      "processing mn_h.csv\n",
      "mv mn_h.csv h_mn.csv\n",
      "processing mn_p.csv\n",
      "mv mn_p.csv p_mn.csv\n",
      "processing mo_h.csv\n",
      "mv mo_h.csv h_mo.csv\n",
      "processing mo_p.csv\n",
      "mv mo_p.csv p_mo.csv\n",
      "processing ms_h.csv\n",
      "mv ms_h.csv h_ms.csv\n",
      "processing ms_p.csv\n",
      "mv ms_p.csv p_ms.csv\n",
      "processing mt_h.csv\n",
      "mv mt_h.csv h_mt.csv\n",
      "processing mt_p.csv\n",
      "mv mt_p.csv p_mt.csv\n",
      "processing nc_h.csv\n",
      "mv nc_h.csv h_nc.csv\n",
      "processing nc_p.csv\n",
      "mv nc_p.csv p_nc.csv\n",
      "processing nd_h.csv\n",
      "mv nd_h.csv h_nd.csv\n",
      "processing nd_p.csv\n",
      "mv nd_p.csv p_nd.csv\n",
      "processing ne_h.csv\n",
      "mv ne_h.csv h_ne.csv\n",
      "processing ne_p.csv\n",
      "mv ne_p.csv p_ne.csv\n",
      "processing nh_h.csv\n",
      "mv nh_h.csv h_nh.csv\n",
      "processing nh_p.csv\n",
      "mv nh_p.csv p_nh.csv\n",
      "processing nj_h.csv\n",
      "mv nj_h.csv h_nj.csv\n",
      "processing nj_p.csv\n",
      "mv nj_p.csv p_nj.csv\n",
      "processing nm_h.csv\n",
      "mv nm_h.csv h_nm.csv\n",
      "processing nm_p.csv\n",
      "mv nm_p.csv p_nm.csv\n",
      "processing nv_h.csv\n",
      "mv nv_h.csv h_nv.csv\n",
      "processing nv_p.csv\n",
      "mv nv_p.csv p_nv.csv\n",
      "processing ny_h.csv\n",
      "mv ny_h.csv h_ny.csv\n",
      "processing ny_p.csv\n",
      "mv ny_p.csv p_ny.csv\n",
      "processing oh_h.csv\n",
      "mv oh_h.csv h_oh.csv\n",
      "processing oh_p.csv\n",
      "mv oh_p.csv p_oh.csv\n",
      "processing ok_h.csv\n",
      "mv ok_h.csv h_ok.csv\n",
      "processing ok_p.csv\n",
      "mv ok_p.csv p_ok.csv\n",
      "processing or_h.csv\n",
      "mv or_h.csv h_or.csv\n",
      "processing or_p.csv\n",
      "mv or_p.csv p_or.csv\n",
      "processing pa_h.csv\n",
      "mv pa_h.csv h_pa.csv\n",
      "processing pa_p.csv\n",
      "mv pa_p.csv p_pa.csv\n",
      "processing pr_h.csv\n",
      "mv pr_h.csv h_pr.csv\n",
      "processing pr_p.csv\n",
      "mv pr_p.csv p_pr.csv\n",
      "processing ri_h.csv\n",
      "mv ri_h.csv h_ri.csv\n",
      "processing ri_p.csv\n",
      "mv ri_p.csv p_ri.csv\n",
      "processing sc_h.csv\n",
      "mv sc_h.csv h_sc.csv\n",
      "processing sc_p.csv\n",
      "mv sc_p.csv p_sc.csv\n",
      "processing sd_h.csv\n",
      "mv sd_h.csv h_sd.csv\n",
      "processing sd_p.csv\n",
      "mv sd_p.csv p_sd.csv\n",
      "processing ss13hak.csv\n",
      "mv ss13hak.csv _ha.csv\n",
      "processing ss13hal.csv\n",
      "mv ss13hal.csv _ha.csv\n",
      "processing ss13har.csv\n",
      "mv ss13har.csv _ha.csv\n",
      "processing ss13haz.csv\n",
      "mv ss13haz.csv _ha.csv\n",
      "processing ss13hca.csv\n",
      "mv ss13hca.csv _hc.csv\n",
      "processing ss13hco.csv\n",
      "mv ss13hco.csv _hc.csv\n",
      "processing ss13hct.csv\n",
      "mv ss13hct.csv _hc.csv\n",
      "processing ss13hdc.csv\n",
      "mv ss13hdc.csv _hd.csv\n",
      "processing ss13hde.csv\n",
      "mv ss13hde.csv _hd.csv\n",
      "processing ss13hfl.csv\n",
      "mv ss13hfl.csv _hf.csv\n",
      "processing ss13hia.csv\n",
      "mv ss13hia.csv _hi.csv\n",
      "processing ss13hin.csv\n",
      "mv ss13hin.csv _hi.csv\n",
      "processing ss13hks.csv\n",
      "mv ss13hks.csv _hk.csv\n",
      "processing ss13hky.csv\n",
      "mv ss13hky.csv _hk.csv\n",
      "processing ss13hla.csv\n",
      "mv ss13hla.csv _hl.csv\n",
      "processing ss13hma.csv\n",
      "mv ss13hma.csv _hm.csv\n",
      "processing ss13hmd.csv\n",
      "mv ss13hmd.csv _hm.csv\n",
      "processing ss13hme.csv\n",
      "mv ss13hme.csv _hm.csv\n",
      "processing ss13hmi.csv\n",
      "mv ss13hmi.csv _hm.csv\n",
      "processing ss13hmn.csv\n",
      "mv ss13hmn.csv _hm.csv\n",
      "processing ss13hmo.csv\n",
      "mv ss13hmo.csv _hm.csv\n",
      "processing ss13hms.csv\n",
      "mv ss13hms.csv _hm.csv\n",
      "processing ss13hmt.csv\n",
      "mv ss13hmt.csv _hm.csv\n",
      "processing ss13hnc.csv\n",
      "mv ss13hnc.csv _hn.csv\n",
      "processing ss13hnd.csv\n",
      "mv ss13hnd.csv _hn.csv\n",
      "processing ss13hne.csv\n",
      "mv ss13hne.csv _hn.csv\n",
      "processing ss13hnh.csv\n",
      "mv ss13hnh.csv _hn.csv\n",
      "processing ss13hnj.csv\n",
      "mv ss13hnj.csv _hn.csv\n",
      "processing ss13hnm.csv\n",
      "mv ss13hnm.csv _hn.csv\n",
      "processing ss13hnv.csv\n",
      "mv ss13hnv.csv _hn.csv\n",
      "processing ss13hny.csv\n",
      "mv ss13hny.csv _hn.csv\n",
      "processing ss13hoh.csv\n",
      "mv ss13hoh.csv _ho.csv\n",
      "processing ss13hok.csv\n",
      "mv ss13hok.csv _ho.csv\n",
      "processing ss13hor.csv\n",
      "mv ss13hor.csv _ho.csv\n",
      "processing ss13hpa.csv\n",
      "mv ss13hpa.csv _hp.csv\n",
      "processing ss13hpr.csv\n",
      "mv ss13hpr.csv _hp.csv\n",
      "processing ss13hri.csv\n",
      "mv ss13hri.csv _hr.csv\n",
      "processing ss13hsc.csv\n",
      "mv ss13hsc.csv _hs.csv\n",
      "processing ss13hsd.csv\n",
      "mv ss13hsd.csv _hs.csv\n",
      "processing ss13htn.csv\n",
      "mv ss13htn.csv _ht.csv\n",
      "processing ss13htx.csv\n",
      "mv ss13htx.csv _ht.csv\n",
      "processing ss13hva.csv\n",
      "mv ss13hva.csv _hv.csv\n",
      "processing ss13hvt.csv\n",
      "mv ss13hvt.csv _hv.csv\n",
      "processing ss13hwa.csv\n",
      "mv ss13hwa.csv _hw.csv\n",
      "processing ss13hwv.csv\n",
      "mv ss13hwv.csv _hw.csv\n",
      "processing tn_h.csv\n",
      "mv tn_h.csv h_tn.csv\n",
      "processing tn_p.csv\n",
      "mv tn_p.csv p_tn.csv\n",
      "processing tx_h.csv\n",
      "mv tx_h.csv h_tx.csv\n",
      "processing tx_p.csv\n",
      "mv tx_p.csv p_tx.csv\n",
      "processing ut_h.csv\n",
      "mv ut_h.csv h_ut.csv\n",
      "processing ut_p.csv\n",
      "mv ut_p.csv p_ut.csv\n",
      "processing va_h.csv\n",
      "mv va_h.csv h_va.csv\n",
      "processing va_p.csv\n",
      "mv va_p.csv p_va.csv\n",
      "processing vt_h.csv\n",
      "mv vt_h.csv h_vt.csv\n",
      "processing vt_p.csv\n",
      "mv vt_p.csv p_vt.csv\n",
      "processing wa_h.csv\n",
      "mv wa_h.csv h_wa.csv\n",
      "processing wa_p.csv\n",
      "mv wa_p.csv p_wa.csv\n",
      "processing wi_h.csv\n",
      "mv wi_h.csv h_wi.csv\n",
      "processing wi_p.csv\n",
      "mv wi_p.csv p_wi.csv\n",
      "processing wv_h.csv\n",
      "mv wv_h.csv h_wv.csv\n",
      "processing wv_p.csv\n",
      "mv wv_p.csv p_wv.csv\n",
      "processing wy_h.csv\n",
      "mv wy_h.csv h_wy.csv\n",
      "processing wy_p.csv\n",
      "mv wy_p.csv p_wy.csv\n"
     ]
    }
   ],
   "source": [
    "%%bash\n",
    "\n",
    "cd ../data/BD/PUB3\n",
    "\n",
    "# make the file names easier to read\n",
    "for f in *.csv; do \n",
    "    # echo name \n",
    "    echo \"processing $f\"\n",
    "    # remove trailing .csv \n",
    "#     echo ${f%%.csv}\n",
    "    a=${f%%.csv}\n",
    "    b=${a##ss13}\n",
    "#     echo \"b = ${b}\"\n",
    "    c=${b:3:4}\n",
    "    s=${b:0:2}\n",
    "#     echo \"s = ${s}\"\n",
    "#     echo \"c = ${c}\"\n",
    "    echo \"mv $f ${c}_${s}.csv\"\n",
    "done"
   ]
  },
  {
   "cell_type": "code",
   "execution_count": null,
   "metadata": {},
   "outputs": [],
   "source": [
    "# make a list of files\n",
    "ls *.csv > files.txt"
   ]
  }
 ],
 "metadata": {
  "kernelspec": {
   "display_name": "Python 3",
   "language": "python",
   "name": "python3"
  },
  "language_info": {
   "codemirror_mode": {
    "name": "ipython",
    "version": 3
   },
   "file_extension": ".py",
   "mimetype": "text/x-python",
   "name": "python",
   "nbconvert_exporter": "python",
   "pygments_lexer": "ipython3",
   "version": "3.7.4"
  }
 },
 "nbformat": 4,
 "nbformat_minor": 2
}
