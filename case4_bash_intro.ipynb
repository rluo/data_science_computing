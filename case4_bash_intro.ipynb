{
 "cells": [
  {
   "cell_type": "markdown",
   "metadata": {},
   "source": [
    "# Bash enabled in Jupyter by Default"
   ]
  },
  {
   "cell_type": "code",
   "execution_count": 1,
   "metadata": {
    "ExecuteTime": {
     "end_time": "2020-03-12T20:07:50.428488Z",
     "start_time": "2020-03-12T20:07:50.240219Z"
    }
   },
   "outputs": [
    {
     "name": "stdout",
     "output_type": "stream",
     "text": [
      "total 64G\r\n",
      "-rw-rw-r-- 1 xi_rossi_luo xi_rossi_luo 2.6G Oct  6  2014  ss13pusa.csv\r\n",
      "-rw-rw-r-- 1 xi_rossi_luo xi_rossi_luo 1.9G Oct  6  2014  ss13pusb.csv\r\n",
      "-rw-rw-r-- 1 xi_rossi_luo xi_rossi_luo 2.1G Oct  6  2014  ss13pusc.csv\r\n",
      "-rw-rw-r-- 1 xi_rossi_luo xi_rossi_luo 2.2G Oct  6  2014  ss13pusd.csv\r\n",
      "-rw-rw-r-- 1 xi_rossi_luo xi_rossi_luo 228K Nov  5  2014  ACS2011-2013_PUMS_README.pdf\r\n",
      "-rwxrwxr-x 1 xi_rossi_luo xi_rossi_luo 1.6G Dec 22  2014  ss13husa.csv\r\n",
      "-rwxrwxr-x 1 xi_rossi_luo xi_rossi_luo 1.2G Dec 22  2014  ss13husb.csv\r\n",
      "-rwxrwxr-x 1 xi_rossi_luo xi_rossi_luo 1.3G Dec 22  2014  ss13husc.csv\r\n",
      "-rwxrwxr-x 1 xi_rossi_luo xi_rossi_luo 1.4G Dec 22  2014  ss13husd.csv\r\n",
      "-rw-rw-r-- 1 xi_rossi_luo xi_rossi_luo  81K Jan  5  2015  ACS2009-2013_PUMS_README.pdf\r\n",
      "-rw-rw-r-- 1 xi_rossi_luo xi_rossi_luo 950M Jan  8  2015  csv_hus.zip\r\n",
      "-rwxrwxr-x 1 xi_rossi_luo xi_rossi_luo 5.3G Feb  5  2015  ss13hus_all.csv\r\n",
      "-rw-rw-r-- 1 xi_rossi_luo xi_rossi_luo  13M Feb  5  2015  ss13hus_bath.csv\r\n",
      "-rw-rw-r-- 1 xi_rossi_luo xi_rossi_luo 1.6G Feb 11  2015  csv_pus.zip\r\n",
      "-rw-rw-r-- 1 xi_rossi_luo xi_rossi_luo 8.7G Feb 11  2015  ss13pus_all.csv\r\n",
      "-rw-rw-r-- 1 xi_rossi_luo xi_rossi_luo 3.8G Feb 11  2015  pub5.bak.db\r\n",
      "-rw-rw-r-- 1 xi_rossi_luo xi_rossi_luo 1.0K Feb 11  2015  pub5new.db-journal\r\n",
      "-rw-rw-r-- 1 xi_rossi_luo xi_rossi_luo 3.5G Feb 12  2015  pub5new.db\r\n",
      "-rw-rw-r-- 1 xi_rossi_luo xi_rossi_luo 3.5G Feb 12  2015  pub5new2.db\r\n",
      "-rw-rw-r-- 1 xi_rossi_luo xi_rossi_luo  13G Feb 12  2015  pub5.db\r\n",
      "-rw-rw-r-- 1 xi_rossi_luo xi_rossi_luo 3.5G Feb 12  2015  hus5.sqlite\r\n",
      "-rw-rw-r-- 1 xi_rossi_luo xi_rossi_luo 3.5G Feb 12  2015  test.db\r\n",
      "-rwxrwxr-x 1 xi_rossi_luo xi_rossi_luo 1.3G Feb  2  2017  ss13hus_all2.csv\r\n",
      "-rw-rw-r-- 1 xi_rossi_luo xi_rossi_luo  13M Feb  2  2017  ss13hus_bath\r\n",
      "-rw-rw-r-- 1 xi_rossi_luo xi_rossi_luo  13M Feb  2  2017  ss13hus_bathnum.csv\r\n",
      "-rw-rw-r-- 1 xi_rossi_luo xi_rossi_luo 1.5G Feb  7  2017  pub5_2017.db\r\n",
      "drwxrwxr-x 3 xi_rossi_luo xi_rossi_luo 4.0K Feb  1  2018  csv2sqlite\r\n",
      "-rwxrwxr-x 1 xi_rossi_luo xi_rossi_luo 397M Feb  1  2018 'ss13hus_all (slbd2018'\\''s conflicted copy 2018-02-06).csv'\r\n",
      "drwxrwxr-x 3 xi_rossi_luo xi_rossi_luo 4.0K Feb  6  2018  .\r\n",
      "drwxr-xr-x 9 xi_rossi_luo xi_rossi_luo 4.0K Mar  6 15:41  ..\r\n"
     ]
    }
   ],
   "source": [
    "!ls -alrth ../data/BD/PUB5"
   ]
  },
  {
   "cell_type": "code",
   "execution_count": 2,
   "metadata": {
    "ExecuteTime": {
     "end_time": "2020-03-12T20:08:30.715216Z",
     "start_time": "2020-03-12T20:08:30.600215Z"
    }
   },
   "outputs": [
    {
     "name": "stdout",
     "output_type": "stream",
     "text": [
      "-rwxrwxr-x 1 xi_rossi_luo xi_rossi_luo 1.6G Dec 22  2014 ../data/BD/PUB5/ss13husa.csv\r\n",
      "-rwxrwxr-x 1 xi_rossi_luo xi_rossi_luo 1.2G Dec 22  2014 ../data/BD/PUB5/ss13husb.csv\r\n",
      "-rwxrwxr-x 1 xi_rossi_luo xi_rossi_luo 1.3G Dec 22  2014 ../data/BD/PUB5/ss13husc.csv\r\n",
      "-rwxrwxr-x 1 xi_rossi_luo xi_rossi_luo 1.4G Dec 22  2014 ../data/BD/PUB5/ss13husd.csv\r\n"
     ]
    }
   ],
   "source": [
    "!ls -alrth ../data/BD/PUB5/ss13hus?.csv"
   ]
  },
  {
   "cell_type": "code",
   "execution_count": 3,
   "metadata": {
    "ExecuteTime": {
     "end_time": "2020-03-12T20:08:49.547204Z",
     "start_time": "2020-03-12T20:08:49.480398Z"
    }
   },
   "outputs": [
    {
     "name": "stdout",
     "output_type": "stream",
     "text": [
      "serialno,insp,RT,DIVISION,PUMA00,PUMA10,REGION,ST,ADJHSG,ADJINC,WGTP,NP,TYPE,ACR,AGS,BATH,BDSP,BLD,BUS,CONP,ELEP,FS,FULP,GASP,HFL,MHP,MRGI,MRGP,MRGT,MRGX,REFR,RMSP,RNTM,RNTP,RWAT,RWATPR,SINK,SMP,STOV,TEL,TEN,TOIL,VACS,VALP,VEH,WATP,YBL,FES,FINCP,FPARC,GRNTP,GRPIP,HHL,HHT,HINCP,HUGCL,HUPAC,HUPAOC,HUPARC,KIT,LNGI,MULTG,MV,NOC,NPF,NPP,NR,NRC,OCPIP,PARTNER,PLM,PSF,R18,R60,R65,RESMODE,SMOCP,SMX,SRNT,SVAL,TAXP,WIF,WKEXREL,WORKSTAT,FACRP,FAGSP,FBATHP,FBDSP,FBLDP,FBUSP,FCONP,FELEP,FFSP,FFULP,FGASP,FHFLP,FINSP,FKITP,FMHP,FMRGIP,FMRGP,FMRGTP,FMRGXP,FMVP,FPLMP,FREFRP,FRMSP,FRNTMP,FRNTP,FRWATP,FRWATPRP,FSINKP,FSMP,FSMXHP,FSMXSP,FSTOVP,FTAXP,FTELP,FTENP,FTOILP,FVACSP,FVALP,FVEHP,FWATP,FYBLP,WGTP1,WGTP2,WGTP3,WGTP4,WGTP5,WGTP6,WGTP7,WGTP8,WGTP9,WGTP10,WGTP11,WGTP12,WGTP13,WGTP14,WGTP15,WGTP16,WGTP17,WGTP18,WGTP19,WGTP20,WGTP21,WGTP22,WGTP23,WGTP24,WGTP25,WGTP26,WGTP27,WGTP28,WGTP29,WGTP30,WGTP31,WGTP32,WGTP33,WGTP34,WGTP35,WGTP36,WGTP37,WGTP38,WGTP39,WGTP40,WGTP41,WGTP42,WGTP43,WGTP44,WGTP45,WGTP46,WGTP47,WGTP48,WGTP49,WGTP50,WGTP51,WGTP52,WGTP53,WGTP54,WGTP55,WGTP56,WGTP57,WGTP58,WGTP59,WGTP60,WGTP61,WGTP62,WGTP63,WGTP64,WGTP65,WGTP66,WGTP67,WGTP68,WGTP69,WGTP70,WGTP71,WGTP72,WGTP73,WGTP74,WGTP75,WGTP76,WGTP77,WGTP78,WGTP79,WGTP80\n",
      "2009000000093,,H,8,00200,-0009,4,16,1086032,1085467,00018,01,1,1,,1,02,02,2,0000,060,2,0002,003,6,,,,,,1,03,,,1,9,1,,1,1,4,1,,,2,0002,09,,,,,,1,4,000000000,0,4,4,4,1,1,1,3,00,,0,0,00,,0,1,0,0,0,0,2,,,1,0,,,,,0,0,0,0,0,0,0,0,0,0,0,0,0,0,0,0,0,0,0,0,0,0,0,0,0,0,0,0,0,0,0,0,0,0,0,0,0,0,0,0,0,00006,00028,00015,00011,00017,00005,00016,00015,00030,00025,00004,00004,00035,00017,00005,00028,00026,00020,00019,00017,00027,00019,00018,00021,00021,00027,00019,00017,00006,00007,00030,00027,00009,00025,00023,00005,00006,00021,00021,00017,00005,00019,00013,00016,00018,00005,00018,00013,00029,00027,00006,00005,00031,00020,00007,00027,00033,00019,00015,00015,00026,00014,00015,00018,00017,00024,00019,00020,00006,00007,00029,00030,00006,00022,00028,00005,00007,00023,00020,00014\n"
     ]
    }
   ],
   "source": [
    "%%bash\n",
    "# Concatenate files together without extra headers\n",
    "# Examine files \n",
    "cd ../data/BD/PUB5\n",
    "head -n 2 ss13husb.csv "
   ]
  },
  {
   "cell_type": "code",
   "execution_count": 5,
   "metadata": {
    "ExecuteTime": {
     "end_time": "2020-03-12T20:10:44.870587Z",
     "start_time": "2020-03-12T20:10:39.001785Z"
    }
   },
   "outputs": [
    {
     "name": "stdout",
     "output_type": "stream",
     "text": [
      "Process is interrupted.\n"
     ]
    }
   ],
   "source": [
    "%%bash\n",
    "cd ../data/BD/PUB5\n",
    "tail -n +2 ss13husb.csv #  | head -n 1 # +2 means starting from the second line, instead of counting from the end (default for tail)"
   ]
  },
  {
   "cell_type": "code",
   "execution_count": 6,
   "metadata": {
    "ExecuteTime": {
     "end_time": "2020-03-12T20:11:24.235253Z",
     "start_time": "2020-03-12T20:11:18.682797Z"
    }
   },
   "outputs": [
    {
     "name": "stdout",
     "output_type": "stream",
     "text": [
      "1608821 ss13husb.csv\n"
     ]
    }
   ],
   "source": [
    "%%bash\n",
    "cd ../data/BD/PUB5\n",
    "\n",
    "wc -l ss13husb.csv\n"
   ]
  },
  {
   "cell_type": "markdown",
   "metadata": {},
   "source": [
    "# Concatenate files "
   ]
  },
  {
   "cell_type": "code",
   "execution_count": null,
   "metadata": {},
   "outputs": [],
   "source": [
    "%%bash \n",
    "cd ../data/BD/PUB5\n",
    "cp ss13husa.csv ss13hus_all20.csv\n",
    "tail -n +2 ss13husb.csv >> ss13hus_all20.csv\n",
    "tail -n +2 ss13husc.csv >> ss13hus_all20.csv\n",
    "tail -n +2 ss13husd.csv >> ss13hus_all20.csv"
   ]
  },
  {
   "cell_type": "markdown",
   "metadata": {},
   "source": [
    "# Validity check"
   ]
  },
  {
   "cell_type": "code",
   "execution_count": 7,
   "metadata": {
    "ExecuteTime": {
     "end_time": "2020-03-12T20:14:58.029796Z",
     "start_time": "2020-03-12T20:13:24.903731Z"
    }
   },
   "outputs": [
    {
     "name": "stdout",
     "output_type": "stream",
     "text": [
      "7219001 ss13hus_all.csv\n",
      "   2090076 ss13husa.csv\n",
      "   1608821 ss13husb.csv\n",
      "   1725673 ss13husc.csv\n",
      "   1794434 ss13husd.csv\n",
      "   7219004 total\n"
     ]
    }
   ],
   "source": [
    "%%bash \n",
    "cd ../data/BD/PUB5\n",
    "\n",
    "wc -l ss13hus_all.csv\n",
    "\n",
    "wc -l ss13hus?.csv \n"
   ]
  },
  {
   "cell_type": "markdown",
   "metadata": {},
   "source": [
    "# Slice horizontally"
   ]
  },
  {
   "cell_type": "code",
   "execution_count": 12,
   "metadata": {},
   "outputs": [
    {
     "name": "stdout",
     "output_type": "stream",
     "text": [
      "2009000122503,00000,H,6,02500,-0009,3,01,1086032,1085467,00020,01,1,1,,1,03,01,2,0000,080,2,0002,003,3,00020,,,,3,1,05,,,1,9,1,,1,1,2,1,,0010000,2,0002,07,,,,,,1,4,000062300,0,4,4,4,1,1,1,4,00,,0,0,00,002,0,1,0,0,0,0,1,00084,,0,0,02,,,,0,0,0,0,0,0,0,0,0,0,0,0,1,0,0,0,0,0,0,0,0,0,0,0,0,0,0,0,0,0,0,0,0,0,0,0,0,0,0,0,0,00028,00008,00029,00024,00004,00006,00028,00019,00024,00016,00017,00030,00027,00006,00033,00019,00027,00023,00006,00027,00024,00006,00028,00024,00006,00005,00026,00026,00017,00018,00017,00033,00023,00006,00033,00020,00028,00018,00006,00007,00021,00040,00005,00020,00045,00037,00016,00024,00018,00017,00024,00007,00018,00033,00006,00017,00006,00020,00034,00007,00017,00028,00007,00025,00028,00033,00019,00017,00020,00019,00018,00006,00025,00038,00007,00022,00005,00017,00025,00027\n",
      "2009000122536,00000,H,6,01800,-0009,3,01,1086032,1085467,00003,03,1,2,1,1,05,01,2,0000,280,2,0002,003,3,00000,2,00360,2,1,1,08,,,1,9,1,,1,1,1,1,,0010000,3,0380,03,2,000060200,4,,,1,1,000060200,0,4,4,4,1,1,1,4,00,03,0,0,00,013,0,1,0,0,0,0,2,00674,3,0,0,02,2,08,03,0,0,0,0,0,0,0,0,0,0,0,0,1,0,0,0,0,0,0,0,0,0,0,0,0,0,0,0,0,0,0,0,0,0,0,0,0,0,0,0,0,00001,00000,00002,00003,00005,00003,00002,00002,00001,00002,00000,00002,00000,00002,00002,00003,00003,00001,00003,00003,00002,00002,00002,00002,00004,00003,00000,00003,00002,00003,00001,00001,00002,00000,00003,00002,00002,00001,00002,00002,00003,00004,00001,00001,00003,00001,00001,00002,00006,00002,00005,00001,00003,00003,00002,00000,00002,00002,00001,00001,00003,00001,00002,00002,00000,00003,00004,00000,00003,00000,00001,00005,00002,00005,00000,00002,00007,00003,00003,00003\n",
      "2009000122606,01200,H,6,00700,-0009,3,01,1086032,1085467,00008,02,1,1,,1,03,02,2,0000,180,2,0500,020,3,,,,,3,1,08,,,1,9,1,,1,1,2,1,,0065000,2,1000,05,3,000043000,4,,,1,1,000043000,0,4,4,4,1,1,1,5,00,02,0,0,00,013,0,1,0,0,2,2,1,00454,,0,1,09,0,09,08,0,0,0,0,0,0,0,0,0,0,0,0,0,0,0,0,0,0,0,0,0,0,0,0,0,0,0,0,0,0,0,0,0,0,0,0,0,0,0,0,0,00003,00007,00012,00008,00012,00003,00008,00019,00018,00008,00007,00007,00005,00012,00003,00006,00019,00002,00009,00018,00014,00007,00003,00006,00002,00013,00008,00002,00004,00009,00008,00012,00006,00008,00012,00006,00002,00009,00010,00003,00003,00008,00016,00007,00015,00003,00007,00016,00012,00005,00011,00009,00009,00007,00002,00010,00011,00002,00007,00011,00007,00007,00003,00007,00004,00010,00008,00003,00002,00006,00007,00006,00008,00009,00013,00008,00004,00014,00005,00002\n",
      "2009000122626,00330,H,6,00700,-0009,3,01,1086032,1085467,00015,01,1,3,1,1,03,02,2,0000,170,2,0002,020,3,,,,,3,1,06,,,1,9,1,,1,1,2,1,,0200000,1,0020,04,,,,,,1,6,000038500,0,4,4,4,1,1,1,7,00,,0,0,00,008,0,1,0,0,1,1,1,00247,,0,0,08,,,,0,0,0,0,0,0,0,0,0,0,0,0,0,0,0,0,0,0,0,0,0,0,0,0,0,0,0,0,0,0,0,0,0,0,0,0,0,0,0,0,0,00014,00004,00004,00006,00004,00010,00004,00012,00004,00015,00015,00021,00015,00005,00004,00013,00021,00006,00017,00012,00031,00016,00019,00015,00014,00022,00013,00025,00012,00031,00024,00018,00021,00011,00015,00024,00025,00020,00032,00003,00019,00007,00005,00004,00005,00018,00004,00012,00005,00018,00015,00011,00015,00004,00003,00013,00016,00006,00017,00011,00020,00016,00016,00014,00019,00020,00013,00026,00012,00029,00030,00019,00026,00014,00012,00029,00029,00014,00024,00004\n",
      "2009000122635,00500,H,6,01800,-0009,3,01,1086032,1085467,00013,01,1,2,1,1,03,02,2,0000,140,2,0002,080,2,,,,,3,1,06,,,1,9,1,,1,1,2,1,,0030000,1,0720,01,,,,,,1,6,000008500,0,4,4,4,1,1,1,7,00,,0,0,00,045,0,1,0,0,1,1,1,00322,,0,1,01,,,,0,0,0,0,0,0,0,0,0,0,0,0,0,0,0,0,0,0,0,0,0,0,0,0,0,0,0,0,0,0,0,0,0,0,0,0,0,0,0,1,0,00018,00017,00010,00016,00017,00025,00014,00016,00003,00018,00004,00013,00017,00008,00004,00005,00015,00010,00003,00012,00004,00011,00004,00004,00016,00009,00022,00012,00014,00029,00010,00018,00007,00004,00012,00024,00014,00020,00015,00004,00016,00005,00012,00014,00018,00003,00010,00005,00021,00013,00020,00014,00016,00010,00021,00020,00004,00014,00016,00015,00017,00014,00024,00023,00003,00010,00004,00010,00014,00004,00010,00003,00026,00019,00010,00018,00014,00004,00014,00021\n",
      "2009000122685,02700,H,6,02000,-0009,3,01,1086032,1085467,00015,02,1,2,1,1,04,02,2,0000,280,2,0002,010,3,,2,01100,2,1,1,11,,,1,9,1,00060,1,1,1,1,,0800000,2,0420,11,4,000049400,4,,,1,1,000049400,0,4,4,4,1,1,1,3,00,02,0,0,00,042,0,1,0,0,2,0,1,01710,2,0,1,01,0,09,09,0,0,0,0,0,0,0,0,0,0,0,0,0,0,0,0,0,0,0,0,0,0,0,0,0,0,0,0,0,0,0,0,0,0,0,0,0,0,0,0,0,00013,00033,00015,00013,00015,00005,00018,00004,00013,00013,00004,00015,00029,00004,00005,00026,00014,00016,00021,00024,00013,00022,00016,00013,00013,00005,00011,00005,00016,00016,00004,00015,00027,00004,00004,00023,00014,00015,00025,00005,00016,00004,00014,00013,00015,00022,00013,00027,00014,00014,00024,00014,00005,00024,00021,00004,00015,00014,00004,00004,00018,00005,00013,00016,00016,00031,00015,00022,00016,00013,00026,00011,00005,00024,00024,00004,00014,00017,00004,00024\n"
     ]
    }
   ],
   "source": [
    "%%bash\n",
    "cd ../data/BD/PUB5\n",
    "\n",
    "head -n 2015 ss13hus_all.csv | tail -n +2010\n"
   ]
  },
  {
   "cell_type": "markdown",
   "metadata": {},
   "source": [
    "# Slice vertically"
   ]
  },
  {
   "cell_type": "code",
   "execution_count": null,
   "metadata": {},
   "outputs": [],
   "source": [
    "%%bash\n",
    "cd ../data/BD/PUB5\n",
    "\n",
    "cat ss13hus_all.csv  | cut -d ',' -f16 | sed '/^$/d' > ss13hus_bath20.csv"
   ]
  },
  {
   "cell_type": "code",
   "execution_count": 13,
   "metadata": {},
   "outputs": [
    {
     "name": "stdout",
     "output_type": "stream",
     "text": [
      "1\n",
      "1\n",
      "1\n",
      "2\n",
      "1\n",
      "1\n",
      "1\n",
      "1\n"
     ]
    }
   ],
   "source": [
    "%%bash\n",
    "cd ../data/BD/PUB5\n",
    "\n",
    "head ss13hus_all.csv  | cut -d ',' -f16 | grep '[0-9]\\{1,\\}' | head \n"
   ]
  },
  {
   "cell_type": "code",
   "execution_count": 8,
   "metadata": {
    "ExecuteTime": {
     "end_time": "2020-03-12T20:17:52.241650Z",
     "start_time": "2020-03-12T20:17:46.977903Z"
    }
   },
   "outputs": [],
   "source": [
    "import pandas as pd"
   ]
  },
  {
   "cell_type": "code",
   "execution_count": 9,
   "metadata": {
    "ExecuteTime": {
     "end_time": "2020-03-12T20:17:56.153678Z",
     "start_time": "2020-03-12T20:17:55.589585Z"
    }
   },
   "outputs": [],
   "source": [
    "bath_pd = pd.read_csv('../data/BD/PUB5/ss13hus_bath.csv')"
   ]
  },
  {
   "cell_type": "code",
   "execution_count": 10,
   "metadata": {
    "ExecuteTime": {
     "end_time": "2020-03-12T20:18:17.201198Z",
     "start_time": "2020-03-12T20:18:17.099171Z"
    }
   },
   "outputs": [
    {
     "data": {
      "text/plain": [
       "1    6524410\n",
       "2      68958\n",
       "Name: BATH, dtype: int64"
      ]
     },
     "execution_count": 10,
     "metadata": {},
     "output_type": "execute_result"
    }
   ],
   "source": [
    "bath_pd.iloc[:, 0].value_counts()"
   ]
  },
  {
   "cell_type": "code",
   "execution_count": null,
   "metadata": {},
   "outputs": [],
   "source": [
    "pd.read_csv('../data/BD/PUB5/ss13hus_all.csv')"
   ]
  },
  {
   "cell_type": "markdown",
   "metadata": {},
   "source": [
    "# Pure python"
   ]
  },
  {
   "cell_type": "code",
   "execution_count": 11,
   "metadata": {
    "ExecuteTime": {
     "end_time": "2020-03-12T20:20:30.415156Z",
     "start_time": "2020-03-12T20:19:12.101449Z"
    }
   },
   "outputs": [],
   "source": [
    "bath = []\n",
    "with open('../data/BD/PUB5/ss13hus_all.csv', 'r') as f:\n",
    "    next(f)\n",
    "    for line in f:\n",
    "        val = line.split(',')[15]\n",
    "        if val is not '':\n",
    "            bath.append( int( val ) )\n",
    "        else:\n",
    "            bath.append( -1 )"
   ]
  },
  {
   "cell_type": "code",
   "execution_count": 22,
   "metadata": {},
   "outputs": [
    {
     "data": {
      "text/plain": [
       "True"
      ]
     },
     "execution_count": 22,
     "metadata": {},
     "output_type": "execute_result"
    }
   ],
   "source": [
    "bath[1] == ''"
   ]
  },
  {
   "cell_type": "code",
   "execution_count": 12,
   "metadata": {
    "ExecuteTime": {
     "end_time": "2020-03-12T20:21:11.006489Z",
     "start_time": "2020-03-12T20:21:10.406060Z"
    }
   },
   "outputs": [],
   "source": [
    "import numpy as np\n",
    "bath_np = np.asarray(bath, dtype=np.int)"
   ]
  },
  {
   "cell_type": "code",
   "execution_count": 13,
   "metadata": {
    "ExecuteTime": {
     "end_time": "2020-03-12T20:21:11.995984Z",
     "start_time": "2020-03-12T20:21:11.785506Z"
    }
   },
   "outputs": [
    {
     "data": {
      "text/plain": [
       "(array([-1,  1,  2]), array([ 625632, 6524410,   68958]))"
      ]
     },
     "execution_count": 13,
     "metadata": {},
     "output_type": "execute_result"
    }
   ],
   "source": [
    "np.unique(bath_np, return_counts=True)"
   ]
  },
  {
   "cell_type": "markdown",
   "metadata": {},
   "source": [
    "# Concatenate multiple files"
   ]
  },
  {
   "cell_type": "code",
   "execution_count": null,
   "metadata": {},
   "outputs": [],
   "source": [
    "%%bash\n",
    "cd ../data/BD/PUB3\n",
    "\n",
    "# unzip all the files \n",
    "\n",
    "unzip *.zip\n",
    "# you may also try find if too many files\n",
    "\n",
    "\n",
    "for f in *.zip; do\n",
    "    echo $f\n",
    "done\n",
    "\n",
    "\n",
    "for f in *.zip; do \n",
    "    unzip ${f} -x *.pdf\n",
    "done\n",
    "\n",
    "\n",
    "\n",
    "# make the file names easier to read\n",
    "for f in *.csv; do \n",
    "    # echo name \n",
    "    echo \"processing $f\"\n",
    "    # remove trailing .csv \n",
    "    echo ${f%%.csv}\n",
    "    a=${f%%.csv}\n",
    "    b=${a##ss13}\n",
    "    c=${b:0:1}\n",
    "    s=${b:1:2}\n",
    "    mv $f ${s}_${c}.csv\n",
    "done\n",
    "\n",
    "\n",
    "# make a list of files\n",
    "ls *.csv > files.txt\n"
   ]
  }
 ],
 "metadata": {
  "kernelspec": {
   "display_name": "Python 3",
   "language": "python",
   "name": "python3"
  },
  "language_info": {
   "codemirror_mode": {
    "name": "ipython",
    "version": 3
   },
   "file_extension": ".py",
   "mimetype": "text/x-python",
   "name": "python",
   "nbconvert_exporter": "python",
   "pygments_lexer": "ipython3",
   "version": "3.7.4"
  }
 },
 "nbformat": 4,
 "nbformat_minor": 2
}
