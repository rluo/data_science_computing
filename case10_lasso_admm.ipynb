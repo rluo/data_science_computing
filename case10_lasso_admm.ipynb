{
 "cells": [
  {
   "cell_type": "code",
   "execution_count": 1,
   "metadata": {
    "ExecuteTime": {
     "end_time": "2020-03-29T19:50:21.722498Z",
     "start_time": "2020-03-29T19:50:20.867046Z"
    }
   },
   "outputs": [],
   "source": [
    "import numpy as np\n",
    "import time\n",
    "from sklearn import linear_model\n",
    "\n",
    "\n",
    "def soft_thresh(x, lambda_val):\n",
    "    return np.sign(x) * np.maximum(np.zeros(x.size), np.abs(x) - lambda_val)\n",
    "\n",
    "\n",
    "def admm_lasso(X, y, tau, max_iterations=1000, tol=1e-4):\n",
    "    XX = X.T.dot(X)\n",
    "    Xy = X.T.dot(y)\n",
    "\n",
    "    p = X.shape[1]\n",
    "    lambdas = np.zeros(p)\n",
    "    max_rho = 5\n",
    "    rho = 4\n",
    "\n",
    "    z0, z, beta0, beta = [np.zeros(p)] * 4\n",
    "    sinv = np.linalg.inv(XX + rho * np.eye(p))\n",
    "\n",
    "    for i in range(max_iterations):\n",
    "        # update beta\n",
    "        beta = sinv.dot(Xy + rho * z - lambdas)\n",
    "\n",
    "        # update z\n",
    "        z = soft_thresh(beta + lambdas / rho, tau / rho)\n",
    "\n",
    "        # update lambda\n",
    "        lambdas = lambdas + rho * (beta - z)\n",
    "\n",
    "        change = max(np.linalg.norm(beta - beta0), np.linalg.norm(z - z0))\n",
    "        if change < tol or i + 1 > max_iterations:\n",
    "            break\n",
    "        beta0 = beta\n",
    "        z0 = z\n",
    "    return z"
   ]
  },
  {
   "cell_type": "code",
   "execution_count": null,
   "metadata": {
    "ExecuteTime": {
     "end_time": "2020-03-29T19:50:33.630060Z",
     "start_time": "2020-03-29T19:50:33.571502Z"
    }
   },
   "outputs": [],
   "source": [
    "# Model\n",
    "n = 50\n",
    "p = 400\n",
    "X = np.random.normal(size=(n, p))\n",
    "b = np.zeros(400)\n",
    "b[300:305] = np.arange(10, 0, -2)\n",
    "\n",
    "y = np.dot(X, b) + np.random.normal(size=(n,))\n",
    "y_new = np.dot(X, b) + np.random.normal(size=(n,))"
   ]
  },
  {
   "cell_type": "code",
   "execution_count": 3,
   "metadata": {
    "ExecuteTime": {
     "end_time": "2020-03-29T19:50:44.180380Z",
     "start_time": "2020-03-29T19:50:44.133632Z"
    }
   },
   "outputs": [
    {
     "name": "stdout",
     "output_type": "stream",
     "text": [
      "0.043497323989868164\n"
     ]
    }
   ],
   "source": [
    "start_time = time.time()\n",
    "re = admm_lasso(X, y, n)\n",
    "print(time.time() - start_time)"
   ]
  },
  {
   "cell_type": "code",
   "execution_count": 4,
   "metadata": {
    "ExecuteTime": {
     "end_time": "2020-03-29T19:51:01.076183Z",
     "start_time": "2020-03-29T19:51:01.065187Z"
    }
   },
   "outputs": [
    {
     "name": "stdout",
     "output_type": "stream",
     "text": [
      "0.007172107696533203\n"
     ]
    }
   ],
   "source": [
    "# glmnet\n",
    "regr = linear_model.ElasticNet(l1_ratio=1, fit_intercept=False, alpha=1)\n",
    "start_time = time.time()\n",
    "fit = regr.fit(X, y)\n",
    "print(time.time() - start_time)"
   ]
  },
  {
   "cell_type": "code",
   "execution_count": 5,
   "metadata": {
    "ExecuteTime": {
     "end_time": "2020-03-29T19:51:26.356475Z",
     "start_time": "2020-03-29T19:51:26.346494Z"
    }
   },
   "outputs": [
    {
     "name": "stdout",
     "output_type": "stream",
     "text": [
      "[array([-0.        ,  0.        ,  0.        ,  0.        ,  0.        ,\n",
      "        0.        ,  0.        , -0.        , -0.        ,  0.        ,\n",
      "        0.        , -0.        ,  0.        ,  0.        , -0.        ,\n",
      "        0.        , -0.        ,  0.        , -0.        ,  0.        ,\n",
      "        0.        ,  0.        ,  0.        , -0.        ,  0.        ,\n",
      "       -0.        , -0.        , -0.        , -0.        , -0.        ,\n",
      "        0.        ,  0.        ,  0.        , -0.        ,  0.        ,\n",
      "        0.        ,  0.        , -0.        , -0.        ,  0.        ,\n",
      "        0.        ,  0.        , -0.        , -0.        ,  0.        ,\n",
      "        0.        , -0.        ,  0.        , -0.        , -0.        ,\n",
      "       -0.        , -0.        ,  0.        , -0.        ,  0.        ,\n",
      "        0.        , -0.        , -0.        ,  0.        ,  0.        ,\n",
      "       -0.        ,  0.        , -0.        ,  0.        ,  0.        ,\n",
      "        0.        , -0.        ,  0.        , -0.        , -0.        ,\n",
      "        0.        , -0.        , -0.        ,  0.        ,  0.        ,\n",
      "       -0.        , -0.        ,  0.        , -0.        ,  0.        ,\n",
      "        0.        ,  0.        , -0.        ,  0.        , -0.        ,\n",
      "        0.        , -0.        , -0.        ,  0.        ,  0.        ,\n",
      "        0.        , -0.        ,  0.        , -0.        ,  0.        ,\n",
      "        0.        , -0.        , -0.        , -0.        , -0.        ,\n",
      "       -0.        ,  0.        , -0.        ,  0.        , -0.        ,\n",
      "       -0.        ,  0.        ,  0.        , -0.        , -0.        ,\n",
      "       -0.        , -0.        , -0.        , -0.        , -0.        ,\n",
      "       -0.        , -0.        , -0.        ,  0.        ,  0.        ,\n",
      "        0.        , -0.        , -0.        , -0.        ,  0.        ,\n",
      "        0.        , -0.        ,  0.        ,  0.        , -0.        ,\n",
      "        0.        , -0.        , -0.        ,  0.        ,  0.        ,\n",
      "       -0.        , -0.        , -0.        , -0.        , -0.        ,\n",
      "       -0.        ,  0.        , -0.        , -0.        ,  0.        ,\n",
      "        0.        , -0.        , -0.        , -0.        ,  0.        ,\n",
      "       -0.        , -0.        , -0.        ,  0.        , -0.        ,\n",
      "        0.        , -0.        , -0.        ,  0.        ,  0.        ,\n",
      "        0.        ,  0.        ,  0.        ,  0.        ,  0.        ,\n",
      "        0.        , -0.        , -0.        ,  0.        ,  0.        ,\n",
      "       -0.        ,  0.        , -0.        , -0.        , -0.        ,\n",
      "       -0.        , -0.        , -0.        , -0.        ,  0.        ,\n",
      "        0.        ,  0.        ,  0.        , -0.        ,  0.        ,\n",
      "        0.        , -0.        ,  0.        ,  0.        ,  0.        ,\n",
      "       -0.        , -0.        ,  0.        ,  0.        ,  0.        ,\n",
      "       -0.        ,  0.        , -0.        ,  0.        , -0.        ,\n",
      "        0.        , -0.        ,  0.        , -0.        ,  0.        ,\n",
      "       -0.        , -0.        ,  0.        ,  0.        , -0.        ,\n",
      "        0.        , -0.        , -0.        , -0.        ,  0.        ,\n",
      "       -0.        , -0.        ,  0.        ,  0.        ,  0.        ,\n",
      "       -0.        ,  0.        , -0.        ,  0.        ,  0.        ,\n",
      "        0.        , -0.        , -0.        , -0.        , -0.        ,\n",
      "       -0.        ,  0.        , -0.        ,  0.        ,  0.        ,\n",
      "        0.        , -0.        , -0.        ,  0.        , -0.        ,\n",
      "        0.        , -0.        , -0.        ,  0.        ,  0.        ,\n",
      "        0.        ,  0.        , -0.        ,  0.        ,  0.        ,\n",
      "       -0.        ,  0.        ,  0.        , -0.        , -0.        ,\n",
      "       -0.        ,  0.        , -0.        ,  0.        ,  0.        ,\n",
      "        0.        ,  0.        , -0.        , -0.        ,  0.        ,\n",
      "        0.        ,  0.        ,  0.        ,  0.        ,  0.        ,\n",
      "       -0.        , -0.        ,  0.        ,  0.        , -0.        ,\n",
      "       -0.        , -0.        , -0.        ,  0.        ,  0.        ,\n",
      "       -0.        , -0.        , -0.        ,  0.        , -0.        ,\n",
      "        0.        ,  0.        , -0.        ,  0.        , -0.        ,\n",
      "        0.        ,  0.        ,  0.        ,  0.        , -0.        ,\n",
      "       -0.        ,  0.        , -0.        ,  0.        ,  0.        ,\n",
      "        9.89591739,  7.35451206,  5.3953502 ,  3.06562994,  1.18095172,\n",
      "        0.        , -0.        , -0.        ,  0.        ,  0.        ,\n",
      "        0.        , -0.        , -0.        , -0.        ,  0.        ,\n",
      "        0.        ,  0.        , -0.        ,  0.        , -0.        ,\n",
      "        0.        , -0.        , -0.        ,  0.        ,  0.        ,\n",
      "        0.        , -0.        , -0.        ,  0.        , -0.        ,\n",
      "        0.        , -0.        , -0.        ,  0.        ,  0.        ,\n",
      "       -0.        ,  0.        , -0.        ,  0.        ,  0.        ,\n",
      "       -0.        , -0.        , -0.        ,  0.        , -0.        ,\n",
      "        0.        , -0.        , -0.        , -0.        ,  0.        ,\n",
      "        0.        ,  0.        , -0.        , -0.        ,  0.        ,\n",
      "       -0.        , -0.        ,  0.        , -0.        ,  0.        ,\n",
      "       -0.        , -0.        , -0.        ,  0.        , -0.        ,\n",
      "        0.        ,  0.        ,  0.        ,  0.        , -0.        ,\n",
      "        0.        ,  0.        , -0.        , -0.        ,  0.        ,\n",
      "       -0.        ,  0.        ,  0.        , -0.        , -0.        ,\n",
      "        0.        , -0.        ,  0.        , -0.        ,  0.        ,\n",
      "       -0.        , -0.        , -0.        ,  0.        ,  0.        ,\n",
      "        0.        , -0.        , -0.        , -0.        ,  0.        ,\n",
      "        0.        , -0.        , -0.        ,  0.        ,  0.        ]), array([-0.        ,  0.        ,  0.        ,  0.        ,  0.        ,\n",
      "        0.        ,  0.        , -0.        , -0.        ,  0.        ,\n",
      "        0.        , -0.        ,  0.        ,  0.        , -0.        ,\n",
      "        0.        , -0.        ,  0.        , -0.        ,  0.        ,\n",
      "        0.        ,  0.        , -0.        , -0.        ,  0.        ,\n",
      "       -0.        , -0.        , -0.        , -0.        , -0.        ,\n",
      "        0.        ,  0.        ,  0.        , -0.        ,  0.        ,\n",
      "        0.        ,  0.        , -0.        , -0.        ,  0.        ,\n",
      "        0.        ,  0.        , -0.        , -0.        ,  0.        ,\n",
      "        0.        , -0.        ,  0.        , -0.        , -0.        ,\n",
      "       -0.        , -0.        ,  0.        , -0.        ,  0.        ,\n",
      "        0.        , -0.        , -0.        ,  0.        ,  0.        ,\n",
      "       -0.        ,  0.        , -0.        ,  0.        ,  0.        ,\n",
      "        0.        , -0.        ,  0.        , -0.        , -0.        ,\n",
      "        0.        , -0.        , -0.        ,  0.        ,  0.        ,\n",
      "       -0.        , -0.        ,  0.        , -0.        ,  0.        ,\n",
      "        0.        ,  0.        , -0.        ,  0.        , -0.        ,\n",
      "        0.        , -0.        , -0.        ,  0.        ,  0.        ,\n",
      "        0.        , -0.        ,  0.        , -0.        ,  0.        ,\n",
      "        0.        , -0.        , -0.        , -0.        , -0.        ,\n",
      "       -0.        ,  0.        , -0.        ,  0.        , -0.        ,\n",
      "       -0.        ,  0.        ,  0.        , -0.        , -0.        ,\n",
      "       -0.        , -0.        , -0.        , -0.        , -0.        ,\n",
      "       -0.        , -0.        , -0.        ,  0.        ,  0.        ,\n",
      "        0.        , -0.        , -0.        , -0.        ,  0.        ,\n",
      "        0.        , -0.        ,  0.        ,  0.        , -0.        ,\n",
      "        0.        , -0.        , -0.        ,  0.        ,  0.        ,\n",
      "       -0.        , -0.        , -0.        , -0.        , -0.        ,\n",
      "       -0.        ,  0.        , -0.        , -0.        ,  0.        ,\n",
      "        0.        , -0.        , -0.        , -0.        ,  0.        ,\n",
      "       -0.        , -0.        , -0.        ,  0.        , -0.        ,\n",
      "        0.        , -0.        , -0.        ,  0.        ,  0.        ,\n",
      "        0.        ,  0.        ,  0.        ,  0.        ,  0.        ,\n",
      "        0.        , -0.        , -0.        ,  0.        ,  0.        ,\n",
      "       -0.        ,  0.        , -0.        , -0.        , -0.        ,\n",
      "       -0.        , -0.        , -0.        ,  0.        ,  0.        ,\n",
      "        0.        ,  0.        ,  0.        , -0.        ,  0.        ,\n",
      "        0.        , -0.        ,  0.        ,  0.        ,  0.        ,\n",
      "       -0.        , -0.        ,  0.        ,  0.        ,  0.        ,\n",
      "       -0.        ,  0.        , -0.        ,  0.        , -0.        ,\n",
      "        0.        , -0.        ,  0.        , -0.        ,  0.        ,\n",
      "       -0.        , -0.        ,  0.        ,  0.        , -0.        ,\n",
      "        0.        , -0.        , -0.        , -0.        ,  0.        ,\n",
      "       -0.        , -0.        ,  0.        ,  0.        ,  0.        ,\n",
      "       -0.        ,  0.        , -0.        ,  0.        ,  0.        ,\n",
      "        0.        , -0.        , -0.        , -0.        , -0.        ,\n",
      "       -0.        ,  0.        , -0.        ,  0.        ,  0.        ,\n",
      "        0.        , -0.        , -0.        ,  0.        , -0.        ,\n",
      "        0.        , -0.        , -0.        ,  0.        ,  0.        ,\n",
      "        0.        ,  0.        , -0.        ,  0.        ,  0.        ,\n",
      "       -0.        ,  0.        ,  0.        , -0.        , -0.        ,\n",
      "       -0.        ,  0.        , -0.        ,  0.        ,  0.        ,\n",
      "        0.        ,  0.        , -0.        , -0.        ,  0.        ,\n",
      "        0.        ,  0.        ,  0.        ,  0.        ,  0.        ,\n",
      "       -0.        , -0.        ,  0.        ,  0.        , -0.        ,\n",
      "       -0.        , -0.        , -0.        ,  0.        ,  0.        ,\n",
      "       -0.        , -0.        , -0.        ,  0.        , -0.        ,\n",
      "        0.        ,  0.        , -0.        ,  0.        , -0.        ,\n",
      "        0.        ,  0.        ,  0.        ,  0.        , -0.        ,\n",
      "       -0.        ,  0.        , -0.        ,  0.        ,  0.        ,\n",
      "        9.89435185,  7.35855064,  5.39720521,  3.06861848,  1.18256578,\n",
      "        0.        , -0.        , -0.        ,  0.        ,  0.        ,\n",
      "        0.        , -0.        , -0.        , -0.        ,  0.        ,\n",
      "        0.        ,  0.        , -0.        ,  0.        , -0.        ,\n",
      "        0.        , -0.        , -0.        ,  0.        ,  0.        ,\n",
      "        0.        , -0.        , -0.        ,  0.        , -0.        ,\n",
      "        0.        , -0.        , -0.        ,  0.        ,  0.        ,\n",
      "       -0.        ,  0.        , -0.        ,  0.        ,  0.        ,\n",
      "       -0.        , -0.        , -0.        ,  0.        , -0.        ,\n",
      "        0.        , -0.        , -0.        , -0.        ,  0.        ,\n",
      "        0.        ,  0.        , -0.        , -0.        ,  0.        ,\n",
      "       -0.        , -0.        ,  0.        , -0.        ,  0.        ,\n",
      "       -0.        , -0.        , -0.        ,  0.        , -0.        ,\n",
      "        0.        ,  0.        ,  0.        ,  0.        , -0.        ,\n",
      "        0.        ,  0.        , -0.        , -0.        ,  0.        ,\n",
      "       -0.        ,  0.        ,  0.        , -0.        , -0.        ,\n",
      "        0.        , -0.        ,  0.        , -0.        ,  0.        ,\n",
      "       -0.        , -0.        , -0.        ,  0.        ,  0.        ,\n",
      "        0.        , -0.        , -0.        , -0.        ,  0.        ,\n",
      "        0.        , -0.        , -0.        ,  0.        ,  0.        ])]\n"
     ]
    }
   ],
   "source": [
    "re_glmnet = fit.coef_\n",
    "\n",
    "beta_mat = [re,  re_glmnet]\n",
    "print(beta_mat)"
   ]
  },
  {
   "cell_type": "code",
   "execution_count": 6,
   "metadata": {
    "ExecuteTime": {
     "end_time": "2020-03-29T19:52:04.386451Z",
     "start_time": "2020-03-29T19:52:04.381143Z"
    }
   },
   "outputs": [
    {
     "name": "stdout",
     "output_type": "stream",
     "text": [
      "[1450.4263570849896, 1450.4254168538605]\n"
     ]
    }
   ],
   "source": [
    "# objective function value\n",
    "def obj(beta, X, y, tau):\n",
    "    return 0.5 * np.linalg.norm(y - X.dot(beta)) ** 2 + tau * np.sum(np.abs(beta))\n",
    "\n",
    "result = [obj(b, X, y, n) for b in beta_mat]\n",
    "print(result)"
   ]
  },
  {
   "cell_type": "code",
   "execution_count": null,
   "metadata": {},
   "outputs": [],
   "source": []
  }
 ],
 "metadata": {
  "kernelspec": {
   "display_name": "Python 3.7.3 64-bit ('pyr': conda)",
   "language": "python",
   "name": "python37364bitpyrconda45b5210c788940838c352579c0058f49"
  },
  "language_info": {
   "codemirror_mode": {
    "name": "ipython",
    "version": 3
   },
   "file_extension": ".py",
   "mimetype": "text/x-python",
   "name": "python",
   "nbconvert_exporter": "python",
   "pygments_lexer": "ipython3",
   "version": "3.7.3"
  },
  "toc": {
   "base_numbering": 1,
   "nav_menu": {},
   "number_sections": true,
   "sideBar": true,
   "skip_h1_title": false,
   "title_cell": "Table of Contents",
   "title_sidebar": "Contents",
   "toc_cell": false,
   "toc_position": {},
   "toc_section_display": true,
   "toc_window_display": false
  }
 },
 "nbformat": 4,
 "nbformat_minor": 2
}
