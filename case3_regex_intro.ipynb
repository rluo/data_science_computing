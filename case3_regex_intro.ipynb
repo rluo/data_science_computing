{
 "cells": [
  {
   "cell_type": "markdown",
   "metadata": {},
   "source": [
    "# Really Basic Intro to Regular Expressions\n",
    "For more info, visit https://docs.python.org/3/library/re.html"
   ]
  },
  {
   "cell_type": "code",
   "execution_count": 5,
   "metadata": {
    "ExecuteTime": {
     "end_time": "2020-03-10T20:07:49.057711Z",
     "start_time": "2020-03-10T20:07:49.055123Z"
    }
   },
   "outputs": [],
   "source": [
    "myDNA = [\"ATCG\", \"CCATCG\", \"ATGCG\", \"ATTTCCG\", \"ATTTTTTCGGGG\", \"ATTCGGGATCG\"]"
   ]
  },
  {
   "cell_type": "code",
   "execution_count": 6,
   "metadata": {
    "ExecuteTime": {
     "end_time": "2020-03-10T20:07:49.757089Z",
     "start_time": "2020-03-10T20:07:49.754816Z"
    }
   },
   "outputs": [],
   "source": [
    "import re"
   ]
  },
  {
   "cell_type": "code",
   "execution_count": 10,
   "metadata": {
    "ExecuteTime": {
     "end_time": "2020-03-10T20:08:13.711409Z",
     "start_time": "2020-03-10T20:08:13.708991Z"
    }
   },
   "outputs": [],
   "source": [
    "# Pattern\n",
    "p = re.compile('AT+CG')"
   ]
  },
  {
   "cell_type": "code",
   "execution_count": 3,
   "metadata": {
    "ExecuteTime": {
     "end_time": "2020-03-10T20:06:08.602400Z",
     "start_time": "2020-03-10T20:06:08.597366Z"
    }
   },
   "outputs": [],
   "source": [
    "p = re.compile('ATT+CG')\n",
    "p = re.compile('^ATCG$')\n",
    "\n",
    "p = re.compile('^[AT]+.*[G]+$')"
   ]
  },
  {
   "cell_type": "code",
   "execution_count": 11,
   "metadata": {
    "ExecuteTime": {
     "end_time": "2020-03-10T20:08:16.338889Z",
     "start_time": "2020-03-10T20:08:16.334499Z"
    }
   },
   "outputs": [
    {
     "data": {
      "text/plain": [
       "[True, True, False, False, True, True]"
      ]
     },
     "execution_count": 11,
     "metadata": {},
     "output_type": "execute_result"
    }
   ],
   "source": [
    "# Action: search, Apply-to string myDNA\n",
    "[ p.search(i) != None for i in myDNA ]"
   ]
  },
  {
   "cell_type": "code",
   "execution_count": 12,
   "metadata": {
    "ExecuteTime": {
     "end_time": "2020-03-10T20:09:04.958554Z",
     "start_time": "2020-03-10T20:09:04.953955Z"
    }
   },
   "outputs": [
    {
     "data": {
      "text/plain": [
       "['haha', 'CChaha', 'ATGCG', 'ATTTCCG', 'hahaGGG', 'hahaGGhaha']"
      ]
     },
     "execution_count": 12,
     "metadata": {},
     "output_type": "execute_result"
    }
   ],
   "source": [
    "[ p.sub('haha', i)  for i in myDNA ]"
   ]
  },
  {
   "cell_type": "code",
   "execution_count": 13,
   "metadata": {
    "ExecuteTime": {
     "end_time": "2020-03-10T20:10:07.827801Z",
     "start_time": "2020-03-10T20:10:07.822726Z"
    }
   },
   "outputs": [
    {
     "data": {
      "text/plain": [
       "[<re.Match object; span=(0, 4), match='ATCG'>,\n",
       " None,\n",
       " <re.Match object; span=(0, 5), match='ATGCG'>,\n",
       " <re.Match object; span=(0, 7), match='ATTTCCG'>,\n",
       " <re.Match object; span=(0, 12), match='ATTTTTTCGGGG'>,\n",
       " <re.Match object; span=(0, 11), match='ATTCGGGATCG'>]"
      ]
     },
     "execution_count": 13,
     "metadata": {},
     "output_type": "execute_result"
    }
   ],
   "source": [
    "[re.match(r'^[AT]+.*[G]+$', i) for i in myDNA]"
   ]
  },
  {
   "cell_type": "code",
   "execution_count": 16,
   "metadata": {
    "ExecuteTime": {
     "end_time": "2020-03-10T20:16:01.745549Z",
     "start_time": "2020-03-10T20:16:01.740437Z"
    }
   },
   "outputs": [
    {
     "data": {
      "text/plain": [
       "('http://', 'http', 'en.wikipedia.org', '/wiki', '/Data_science')"
      ]
     },
     "execution_count": 16,
     "metadata": {},
     "output_type": "execute_result"
    }
   ],
   "source": [
    "url = 'http://en.wikipedia.org/wiki/Data_science'\n",
    "# url = 'en.wikipedia.org/wiki/Data_science'\n",
    "p = re.compile(r'^(([^:]+)://)?([^:/]+)(/[^/]+)(/.*)')\n",
    "p.match(url).groups()"
   ]
  },
  {
   "cell_type": "code",
   "execution_count": 17,
   "metadata": {
    "ExecuteTime": {
     "end_time": "2020-03-10T20:17:27.392461Z",
     "start_time": "2020-03-10T20:17:27.388471Z"
    }
   },
   "outputs": [
    {
     "data": {
      "text/plain": [
       "('https://', 'https', 'sph.uth.edu', '/divisions', '/biostatistics')"
      ]
     },
     "execution_count": 17,
     "metadata": {},
     "output_type": "execute_result"
    }
   ],
   "source": [
    "url = 'https://sph.uth.edu/divisions/biostatistics'\n",
    "p = re.compile(r'^(([^:]+)://)?([^:/]+)(/[^/]+)(/.*)')\n",
    "p.match(url).groups()"
   ]
  },
  {
   "cell_type": "code",
   "execution_count": null,
   "metadata": {},
   "outputs": [],
   "source": []
  }
 ],
 "metadata": {
  "kernelspec": {
   "display_name": "Python 3",
   "language": "python",
   "name": "python3"
  },
  "language_info": {
   "codemirror_mode": {
    "name": "ipython",
    "version": 3
   },
   "file_extension": ".py",
   "mimetype": "text/x-python",
   "name": "python",
   "nbconvert_exporter": "python",
   "pygments_lexer": "ipython3",
   "version": "3.7.3"
  },
  "toc": {
   "base_numbering": 1,
   "nav_menu": {},
   "number_sections": true,
   "sideBar": true,
   "skip_h1_title": false,
   "title_cell": "Table of Contents",
   "title_sidebar": "Contents",
   "toc_cell": false,
   "toc_position": {},
   "toc_section_display": true,
   "toc_window_display": false
  }
 },
 "nbformat": 4,
 "nbformat_minor": 2
}
