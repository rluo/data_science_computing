{
 "cells": [
  {
   "cell_type": "markdown",
   "metadata": {},
   "source": [
    "# Really Basic Intro to Regular Expressions\n",
    "For more info, visit https://docs.python.org/3/library/re.html"
   ]
  },
  {
   "cell_type": "code",
   "execution_count": 1,
   "metadata": {
    "ExecuteTime": {
     "end_time": "2020-03-10T15:54:37.792315Z",
     "start_time": "2020-03-10T15:54:37.789326Z"
    }
   },
   "outputs": [],
   "source": [
    "myDNA = [\"ATCG\", \"CCATCG\", \"ATGCG\", \"ATTTCCG\", \"ATTTTTTCGGGG\", \"ATTCGGGATCG\"]"
   ]
  },
  {
   "cell_type": "code",
   "execution_count": null,
   "metadata": {
    "ExecuteTime": {
     "end_time": "2020-03-10T16:03:30.059794Z",
     "start_time": "2020-03-10T16:03:30.055833Z"
    }
   },
   "outputs": [],
   "source": [
    "import re"
   ]
  },
  {
   "cell_type": "code",
   "execution_count": 19,
   "metadata": {
    "ExecuteTime": {
     "end_time": "2020-03-10T16:03:30.059794Z",
     "start_time": "2020-03-10T16:03:30.055833Z"
    }
   },
   "outputs": [],
   "source": [
    "# Pattern\n",
    "p = re.compile(r'AT+CG')\n",
    "p = re.compile(r'ATT+CG')\n",
    "p = re.compile(r'^ATCG$')\n",
    "\n",
    "p = re.compile(r'^[AT]+.*[G]+$')"
   ]
  },
  {
   "cell_type": "code",
   "execution_count": 25,
   "metadata": {
    "ExecuteTime": {
     "end_time": "2020-03-10T16:09:39.851826Z",
     "start_time": "2020-03-10T16:09:39.847548Z"
    }
   },
   "outputs": [
    {
     "data": {
      "text/plain": [
       "[True, False, True, True, True, True]"
      ]
     },
     "execution_count": 25,
     "metadata": {},
     "output_type": "execute_result"
    }
   ],
   "source": [
    "# Action: search, Apply-to string myDNA\n",
    "[ p.search(i) != None for i in myDNA ]"
   ]
  },
  {
   "cell_type": "code",
   "execution_count": 23,
   "metadata": {
    "ExecuteTime": {
     "end_time": "2020-03-10T16:06:23.121369Z",
     "start_time": "2020-03-10T16:06:23.116508Z"
    }
   },
   "outputs": [
    {
     "data": {
      "text/plain": [
       "['haha', 'CCATCG', 'haha', 'haha', 'haha', 'haha']"
      ]
     },
     "execution_count": 23,
     "metadata": {},
     "output_type": "execute_result"
    }
   ],
   "source": [
    "[ p.sub('haha', i)  for i in myDNA ]"
   ]
  },
  {
   "cell_type": "code",
   "execution_count": 24,
   "metadata": {
    "ExecuteTime": {
     "end_time": "2020-03-10T16:09:22.472761Z",
     "start_time": "2020-03-10T16:09:22.467275Z"
    }
   },
   "outputs": [
    {
     "data": {
      "text/plain": [
       "[<re.Match object; span=(0, 4), match='ATCG'>,\n",
       " None,\n",
       " <re.Match object; span=(0, 5), match='ATGCG'>,\n",
       " <re.Match object; span=(0, 7), match='ATTTCCG'>,\n",
       " <re.Match object; span=(0, 12), match='ATTTTTTCGGGG'>,\n",
       " <re.Match object; span=(0, 11), match='ATTCGGGATCG'>]"
      ]
     },
     "execution_count": 24,
     "metadata": {},
     "output_type": "execute_result"
    }
   ],
   "source": [
    "[re.match(r'^[AT]+.*[G]+$', i) for i in myDNA]"
   ]
  },
  {
   "cell_type": "code",
   "execution_count": 27,
   "metadata": {
    "ExecuteTime": {
     "end_time": "2020-03-10T16:11:21.374055Z",
     "start_time": "2020-03-10T16:11:21.369546Z"
    }
   },
   "outputs": [
    {
     "data": {
      "text/plain": [
       "('http://', 'http', 'en.wikipedia.org', '/wiki', '/Data_science')"
      ]
     },
     "execution_count": 27,
     "metadata": {},
     "output_type": "execute_result"
    }
   ],
   "source": [
    "url = 'http://en.wikipedia.org/wiki/Data_science'\n",
    "p = re.compile(r'^(([^:]+)://)?([^:/]+)(/[^/]+)(/.*)')\n",
    "p.match(url).groups()"
   ]
  },
  {
   "cell_type": "code",
   "execution_count": 29,
   "metadata": {
    "ExecuteTime": {
     "end_time": "2020-03-10T16:13:18.114947Z",
     "start_time": "2020-03-10T16:13:18.109978Z"
    }
   },
   "outputs": [
    {
     "data": {
      "text/plain": [
       "('https://', 'https', 'sph.uth.edu', '/divisions', '/biostatistics')"
      ]
     },
     "execution_count": 29,
     "metadata": {},
     "output_type": "execute_result"
    }
   ],
   "source": [
    "url = 'https://sph.uth.edu/divisions/biostatistics'\n",
    "p = re.compile(r'^(([^:]+)://)?([^:/]+)(/[^/]+)(/.*)')\n",
    "p.match(url).groups()"
   ]
  },
  {
   "cell_type": "code",
   "execution_count": null,
   "metadata": {},
   "outputs": [],
   "source": []
  }
 ],
 "metadata": {
  "kernelspec": {
   "display_name": "Python 3",
   "language": "python",
   "name": "python3"
  },
  "language_info": {
   "codemirror_mode": {
    "name": "ipython",
    "version": 3
   },
   "file_extension": ".py",
   "mimetype": "text/x-python",
   "name": "python",
   "nbconvert_exporter": "python",
   "pygments_lexer": "ipython3",
   "version": "3.7.3"
  },
  "toc": {
   "base_numbering": 1,
   "nav_menu": {},
   "number_sections": true,
   "sideBar": true,
   "skip_h1_title": false,
   "title_cell": "Table of Contents",
   "title_sidebar": "Contents",
   "toc_cell": false,
   "toc_position": {},
   "toc_section_display": true,
   "toc_window_display": false
  }
 },
 "nbformat": 4,
 "nbformat_minor": 2
}
