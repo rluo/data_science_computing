{
 "cells": [
  {
   "cell_type": "markdown",
   "metadata": {},
   "source": [
    "There are other database packages in Python, including those specific to particular kinds of databases. We will use sqlalchemy to illustrate the use."
   ]
  },
  {
   "cell_type": "markdown",
   "metadata": {},
   "source": [
    "# Classical way (SQL)"
   ]
  },
  {
   "cell_type": "code",
   "execution_count": 1,
   "metadata": {
    "ExecuteTime": {
     "end_time": "2020-03-25T21:41:19.558230Z",
     "start_time": "2020-03-25T21:41:19.125296Z"
    }
   },
   "outputs": [],
   "source": [
    "import sqlalchemy as db"
   ]
  },
  {
   "cell_type": "code",
   "execution_count": 75,
   "metadata": {
    "ExecuteTime": {
     "end_time": "2020-03-26T02:00:53.384326Z",
     "start_time": "2020-03-26T02:00:53.376912Z"
    }
   },
   "outputs": [],
   "source": [
    "engine = db.create_engine('sqlite:///../data/BD/SP100Stock/test.sqlite')\n",
    "conn = engine.connect()\n",
    "metadata = db.MetaData()"
   ]
  },
  {
   "cell_type": "code",
   "execution_count": 35,
   "metadata": {
    "ExecuteTime": {
     "end_time": "2020-03-25T21:58:12.486733Z",
     "start_time": "2020-03-25T21:58:12.479066Z"
    }
   },
   "outputs": [
    {
     "data": {
      "text/plain": [
       "['mm', 'mm2', 'price', 'sp100']"
      ]
     },
     "execution_count": 35,
     "metadata": {},
     "output_type": "execute_result"
    }
   ],
   "source": [
    "engine.table_names()"
   ]
  },
  {
   "cell_type": "code",
   "execution_count": 26,
   "metadata": {
    "ExecuteTime": {
     "end_time": "2020-03-25T21:55:11.833398Z",
     "start_time": "2020-03-25T21:55:11.827767Z"
    }
   },
   "outputs": [
    {
     "data": {
      "text/plain": [
       "['mm', 'mm2', 'price', 'sp100']"
      ]
     },
     "execution_count": 26,
     "metadata": {},
     "output_type": "execute_result"
    }
   ],
   "source": [
    "from sqlalchemy import inspect\n",
    "inspector = inspect(engine)\n",
    "inspector.get_table_names()"
   ]
  },
  {
   "cell_type": "code",
   "execution_count": 40,
   "metadata": {
    "ExecuteTime": {
     "end_time": "2020-03-25T22:00:49.030073Z",
     "start_time": "2020-03-25T22:00:49.025107Z"
    }
   },
   "outputs": [
    {
     "data": {
      "text/plain": [
       "dict_keys(['sp100', 'mm', 'mm2', 'price'])"
      ]
     },
     "execution_count": 40,
     "metadata": {},
     "output_type": "execute_result"
    }
   ],
   "source": [
    "metadata.reflect(bind=engine)\n",
    "metadata.tables.keys()"
   ]
  },
  {
   "cell_type": "code",
   "execution_count": 55,
   "metadata": {
    "ExecuteTime": {
     "end_time": "2020-03-25T22:07:14.212641Z",
     "start_time": "2020-03-25T22:07:14.206964Z"
    }
   },
   "outputs": [
    {
     "data": {
      "text/plain": [
       "[(1, 'AAPL', 'Apple Inc.'),\n",
       " (2, 'ABBV', 'AbbVie Inc.'),\n",
       " (3, 'ABT', 'Abbott Laboratories'),\n",
       " (4, 'ACN', 'Accenture plc'),\n",
       " (5, 'AIG', 'American International Group Inc.'),\n",
       " (6, 'ALL', 'Allstate Corp.'),\n",
       " (7, 'AMGN', 'Amgen Inc.'),\n",
       " (8, 'AMZN', 'Amazon.com'),\n",
       " (9, 'APA', 'Apache Corp.'),\n",
       " (10, 'APC', 'Anadarko Petroleum Corporation')]"
      ]
     },
     "execution_count": 55,
     "metadata": {},
     "output_type": "execute_result"
    }
   ],
   "source": [
    "q = engine.execute('select * from sp100 limit 10')\n",
    "re = q.fetchall()\n",
    "re"
   ]
  },
  {
   "cell_type": "code",
   "execution_count": 65,
   "metadata": {
    "ExecuteTime": {
     "end_time": "2020-03-25T22:12:02.795963Z",
     "start_time": "2020-03-25T22:12:02.791503Z"
    }
   },
   "outputs": [
    {
     "data": {
      "text/plain": [
       "['ID', 'Symbol', 'Name']"
      ]
     },
     "execution_count": 65,
     "metadata": {},
     "output_type": "execute_result"
    }
   ],
   "source": [
    "re[0].keys()"
   ]
  },
  {
   "cell_type": "code",
   "execution_count": 56,
   "metadata": {
    "ExecuteTime": {
     "end_time": "2020-03-25T22:07:15.857048Z",
     "start_time": "2020-03-25T22:07:15.854052Z"
    }
   },
   "outputs": [],
   "source": [
    "q.close()"
   ]
  },
  {
   "cell_type": "code",
   "execution_count": 51,
   "metadata": {
    "ExecuteTime": {
     "end_time": "2020-03-25T22:05:38.471146Z",
     "start_time": "2020-03-25T22:05:38.465830Z"
    }
   },
   "outputs": [
    {
     "data": {
      "text/plain": [
       "(1, 'AAPL', 'Apple Inc.')"
      ]
     },
     "execution_count": 51,
     "metadata": {},
     "output_type": "execute_result"
    }
   ],
   "source": [
    "q = engine.execute('select * from sp100')\n",
    "q.fetchone()"
   ]
  },
  {
   "cell_type": "markdown",
   "metadata": {
    "ExecuteTime": {
     "end_time": "2020-03-25T21:57:31.065045Z",
     "start_time": "2020-03-25T21:57:31.057555Z"
    }
   },
   "source": [
    "## update database (SQLAlchemy)"
   ]
  },
  {
   "cell_type": "code",
   "execution_count": 76,
   "metadata": {
    "ExecuteTime": {
     "end_time": "2020-03-26T02:01:06.932550Z",
     "start_time": "2020-03-26T02:01:06.926235Z"
    }
   },
   "outputs": [],
   "source": [
    "sp100 = db.Table('sp100', metadata, autoload=True, autoload_with=engine)"
   ]
  },
  {
   "cell_type": "code",
   "execution_count": 79,
   "metadata": {
    "ExecuteTime": {
     "end_time": "2020-03-26T02:02:03.862646Z",
     "start_time": "2020-03-26T02:02:03.858040Z"
    }
   },
   "outputs": [],
   "source": [
    "results = conn.execute(db.select([sp100])).fetchall()"
   ]
  },
  {
   "cell_type": "code",
   "execution_count": 81,
   "metadata": {
    "ExecuteTime": {
     "end_time": "2020-03-26T02:03:11.911581Z",
     "start_time": "2020-03-26T02:03:06.825931Z"
    }
   },
   "outputs": [],
   "source": [
    "import pandas as pd\n",
    "df = pd.DataFrame(results)\n",
    "df.columns = results[0].keys()"
   ]
  },
  {
   "cell_type": "code",
   "execution_count": 82,
   "metadata": {
    "ExecuteTime": {
     "end_time": "2020-03-26T02:03:18.307326Z",
     "start_time": "2020-03-26T02:03:18.243918Z"
    }
   },
   "outputs": [
    {
     "data": {
      "text/html": [
       "<div>\n",
       "<style scoped>\n",
       "    .dataframe tbody tr th:only-of-type {\n",
       "        vertical-align: middle;\n",
       "    }\n",
       "\n",
       "    .dataframe tbody tr th {\n",
       "        vertical-align: top;\n",
       "    }\n",
       "\n",
       "    .dataframe thead th {\n",
       "        text-align: right;\n",
       "    }\n",
       "</style>\n",
       "<table border=\"1\" class=\"dataframe\">\n",
       "  <thead>\n",
       "    <tr style=\"text-align: right;\">\n",
       "      <th></th>\n",
       "      <th>ID</th>\n",
       "      <th>Symbol</th>\n",
       "      <th>Name</th>\n",
       "    </tr>\n",
       "  </thead>\n",
       "  <tbody>\n",
       "    <tr>\n",
       "      <td>0</td>\n",
       "      <td>1</td>\n",
       "      <td>AAPL</td>\n",
       "      <td>Apple Inc.</td>\n",
       "    </tr>\n",
       "    <tr>\n",
       "      <td>1</td>\n",
       "      <td>2</td>\n",
       "      <td>ABBV</td>\n",
       "      <td>AbbVie Inc.</td>\n",
       "    </tr>\n",
       "    <tr>\n",
       "      <td>2</td>\n",
       "      <td>3</td>\n",
       "      <td>ABT</td>\n",
       "      <td>Abbott Laboratories</td>\n",
       "    </tr>\n",
       "    <tr>\n",
       "      <td>3</td>\n",
       "      <td>4</td>\n",
       "      <td>ACN</td>\n",
       "      <td>Accenture plc</td>\n",
       "    </tr>\n",
       "    <tr>\n",
       "      <td>4</td>\n",
       "      <td>5</td>\n",
       "      <td>AIG</td>\n",
       "      <td>American International Group Inc.</td>\n",
       "    </tr>\n",
       "  </tbody>\n",
       "</table>\n",
       "</div>"
      ],
      "text/plain": [
       "   ID Symbol                               Name\n",
       "0   1   AAPL                         Apple Inc.\n",
       "1   2   ABBV                        AbbVie Inc.\n",
       "2   3    ABT                Abbott Laboratories\n",
       "3   4    ACN                      Accenture plc\n",
       "4   5    AIG  American International Group Inc."
      ]
     },
     "execution_count": 82,
     "metadata": {},
     "output_type": "execute_result"
    }
   ],
   "source": [
    "df.head()"
   ]
  },
  {
   "cell_type": "code",
   "execution_count": 84,
   "metadata": {
    "ExecuteTime": {
     "end_time": "2020-03-26T02:07:08.847512Z",
     "start_time": "2020-03-26T02:07:08.822031Z"
    }
   },
   "outputs": [],
   "source": [
    "q = db.update(sp100).values(ID=1000)\n",
    "q = q.where(sp100.columns.Symbol ==  'AAPL')\n",
    "re = conn.execute(q)"
   ]
  },
  {
   "cell_type": "code",
   "execution_count": 85,
   "metadata": {
    "ExecuteTime": {
     "end_time": "2020-03-26T02:07:44.412580Z",
     "start_time": "2020-03-26T02:07:44.404588Z"
    }
   },
   "outputs": [],
   "source": [
    "results = conn.execute(db.select([sp100])).fetchall()\n",
    "df = pd.DataFrame(results)\n",
    "df.columns = results[0].keys()"
   ]
  },
  {
   "cell_type": "code",
   "execution_count": 86,
   "metadata": {
    "ExecuteTime": {
     "end_time": "2020-03-26T02:07:50.699884Z",
     "start_time": "2020-03-26T02:07:50.691781Z"
    }
   },
   "outputs": [
    {
     "data": {
      "text/html": [
       "<div>\n",
       "<style scoped>\n",
       "    .dataframe tbody tr th:only-of-type {\n",
       "        vertical-align: middle;\n",
       "    }\n",
       "\n",
       "    .dataframe tbody tr th {\n",
       "        vertical-align: top;\n",
       "    }\n",
       "\n",
       "    .dataframe thead th {\n",
       "        text-align: right;\n",
       "    }\n",
       "</style>\n",
       "<table border=\"1\" class=\"dataframe\">\n",
       "  <thead>\n",
       "    <tr style=\"text-align: right;\">\n",
       "      <th></th>\n",
       "      <th>ID</th>\n",
       "      <th>Symbol</th>\n",
       "      <th>Name</th>\n",
       "    </tr>\n",
       "  </thead>\n",
       "  <tbody>\n",
       "    <tr>\n",
       "      <td>0</td>\n",
       "      <td>1000</td>\n",
       "      <td>AAPL</td>\n",
       "      <td>Apple Inc.</td>\n",
       "    </tr>\n",
       "    <tr>\n",
       "      <td>1</td>\n",
       "      <td>2</td>\n",
       "      <td>ABBV</td>\n",
       "      <td>AbbVie Inc.</td>\n",
       "    </tr>\n",
       "    <tr>\n",
       "      <td>2</td>\n",
       "      <td>3</td>\n",
       "      <td>ABT</td>\n",
       "      <td>Abbott Laboratories</td>\n",
       "    </tr>\n",
       "    <tr>\n",
       "      <td>3</td>\n",
       "      <td>4</td>\n",
       "      <td>ACN</td>\n",
       "      <td>Accenture plc</td>\n",
       "    </tr>\n",
       "    <tr>\n",
       "      <td>4</td>\n",
       "      <td>5</td>\n",
       "      <td>AIG</td>\n",
       "      <td>American International Group Inc.</td>\n",
       "    </tr>\n",
       "  </tbody>\n",
       "</table>\n",
       "</div>"
      ],
      "text/plain": [
       "     ID Symbol                               Name\n",
       "0  1000   AAPL                         Apple Inc.\n",
       "1     2   ABBV                        AbbVie Inc.\n",
       "2     3    ABT                Abbott Laboratories\n",
       "3     4    ACN                      Accenture plc\n",
       "4     5    AIG  American International Group Inc."
      ]
     },
     "execution_count": 86,
     "metadata": {},
     "output_type": "execute_result"
    }
   ],
   "source": [
    "df.head()"
   ]
  },
  {
   "cell_type": "markdown",
   "metadata": {},
   "source": [
    "# Pandas"
   ]
  },
  {
   "cell_type": "code",
   "execution_count": 91,
   "metadata": {
    "ExecuteTime": {
     "end_time": "2020-03-26T02:39:19.769961Z",
     "start_time": "2020-03-26T02:39:19.695359Z"
    }
   },
   "outputs": [
    {
     "data": {
      "text/html": [
       "<div>\n",
       "<style scoped>\n",
       "    .dataframe tbody tr th:only-of-type {\n",
       "        vertical-align: middle;\n",
       "    }\n",
       "\n",
       "    .dataframe tbody tr th {\n",
       "        vertical-align: top;\n",
       "    }\n",
       "\n",
       "    .dataframe thead th {\n",
       "        text-align: right;\n",
       "    }\n",
       "</style>\n",
       "<table border=\"1\" class=\"dataframe\">\n",
       "  <thead>\n",
       "    <tr style=\"text-align: right;\">\n",
       "      <th></th>\n",
       "      <th>ID</th>\n",
       "      <th>Symbol</th>\n",
       "      <th>Name</th>\n",
       "    </tr>\n",
       "  </thead>\n",
       "  <tbody>\n",
       "    <tr>\n",
       "      <td>0</td>\n",
       "      <td>1000</td>\n",
       "      <td>AAPL</td>\n",
       "      <td>Apple Inc.</td>\n",
       "    </tr>\n",
       "    <tr>\n",
       "      <td>1</td>\n",
       "      <td>2</td>\n",
       "      <td>ABBV</td>\n",
       "      <td>AbbVie Inc.</td>\n",
       "    </tr>\n",
       "    <tr>\n",
       "      <td>2</td>\n",
       "      <td>3</td>\n",
       "      <td>ABT</td>\n",
       "      <td>Abbott Laboratories</td>\n",
       "    </tr>\n",
       "    <tr>\n",
       "      <td>3</td>\n",
       "      <td>4</td>\n",
       "      <td>ACN</td>\n",
       "      <td>Accenture plc</td>\n",
       "    </tr>\n",
       "    <tr>\n",
       "      <td>4</td>\n",
       "      <td>5</td>\n",
       "      <td>AIG</td>\n",
       "      <td>American International Group Inc.</td>\n",
       "    </tr>\n",
       "    <tr>\n",
       "      <td>5</td>\n",
       "      <td>6</td>\n",
       "      <td>ALL</td>\n",
       "      <td>Allstate Corp.</td>\n",
       "    </tr>\n",
       "    <tr>\n",
       "      <td>6</td>\n",
       "      <td>7</td>\n",
       "      <td>AMGN</td>\n",
       "      <td>Amgen Inc.</td>\n",
       "    </tr>\n",
       "    <tr>\n",
       "      <td>7</td>\n",
       "      <td>8</td>\n",
       "      <td>AMZN</td>\n",
       "      <td>Amazon.com</td>\n",
       "    </tr>\n",
       "    <tr>\n",
       "      <td>8</td>\n",
       "      <td>9</td>\n",
       "      <td>APA</td>\n",
       "      <td>Apache Corp.</td>\n",
       "    </tr>\n",
       "    <tr>\n",
       "      <td>9</td>\n",
       "      <td>10</td>\n",
       "      <td>APC</td>\n",
       "      <td>Anadarko Petroleum Corporation</td>\n",
       "    </tr>\n",
       "  </tbody>\n",
       "</table>\n",
       "</div>"
      ],
      "text/plain": [
       "     ID Symbol                               Name\n",
       "0  1000   AAPL                         Apple Inc.\n",
       "1     2   ABBV                        AbbVie Inc.\n",
       "2     3    ABT                Abbott Laboratories\n",
       "3     4    ACN                      Accenture plc\n",
       "4     5    AIG  American International Group Inc.\n",
       "5     6    ALL                     Allstate Corp.\n",
       "6     7   AMGN                         Amgen Inc.\n",
       "7     8   AMZN                         Amazon.com\n",
       "8     9    APA                       Apache Corp.\n",
       "9    10    APC     Anadarko Petroleum Corporation"
      ]
     },
     "execution_count": 91,
     "metadata": {},
     "output_type": "execute_result"
    }
   ],
   "source": [
    "pd.read_sql('select * from sp100 limit 10', engine)"
   ]
  },
  {
   "cell_type": "markdown",
   "metadata": {},
   "source": [
    "# Magic commands in Jupyter"
   ]
  },
  {
   "cell_type": "code",
   "execution_count": 1,
   "metadata": {
    "ExecuteTime": {
     "end_time": "2020-03-24T18:27:55.511206Z",
     "start_time": "2020-03-24T18:27:54.986477Z"
    }
   },
   "outputs": [],
   "source": [
    "%load_ext sql"
   ]
  },
  {
   "cell_type": "code",
   "execution_count": 2,
   "metadata": {
    "ExecuteTime": {
     "end_time": "2020-03-24T18:30:07.911489Z",
     "start_time": "2020-03-24T18:30:07.874456Z"
    }
   },
   "outputs": [
    {
     "data": {
      "text/plain": [
       "'Connected: @../data/BD/SP100Stock/sp100.sqlite'"
      ]
     },
     "execution_count": 2,
     "metadata": {},
     "output_type": "execute_result"
    }
   ],
   "source": [
    "%sql sqlite:///../data/BD/SP100Stock/sp100.sqlite"
   ]
  },
  {
   "cell_type": "markdown",
   "metadata": {},
   "source": [
    "see case5 for  more examples"
   ]
  }
 ],
 "metadata": {
  "kernelspec": {
   "display_name": "Python 3",
   "language": "python",
   "name": "python3"
  },
  "language_info": {
   "codemirror_mode": {
    "name": "ipython",
    "version": 3
   },
   "file_extension": ".py",
   "mimetype": "text/x-python",
   "name": "python",
   "nbconvert_exporter": "python",
   "pygments_lexer": "ipython3",
   "version": "3.7.4"
  }
 },
 "nbformat": 4,
 "nbformat_minor": 2
}
