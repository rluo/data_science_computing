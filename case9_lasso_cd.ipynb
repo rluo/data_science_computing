{
 "cells": [
  {
   "cell_type": "code",
   "execution_count": 1,
   "metadata": {
    "ExecuteTime": {
     "end_time": "2020-03-29T18:54:48.732315Z",
     "start_time": "2020-03-29T18:54:48.553763Z"
    }
   },
   "outputs": [],
   "source": [
    "import numpy as np\n",
    "import time\n",
    "\n",
    "\n",
    "def soft_thresholding(x, a):\n",
    "    a = np.array(a)\n",
    "    x = np.array(x)\n",
    "    result = np.zeros(x.size)\n",
    "    result[x > a] = x[x > a] - a\n",
    "    result[x < -a] = x[x < -a] + a\n",
    "    return result\n",
    "\n",
    "\n",
    "def lasso_kkt_check(X, y, beta, lambda_val, tol=1e-3):\n",
    "    # check convergence\n",
    "    G = X.T.dot(y - X.dot(beta)) / y.size\n",
    "    ix = beta == 0\n",
    "    iy = beta != 0\n",
    "    if np.any(np.abs(G[ix]) > (lambda_val + tol)):\n",
    "        return False\n",
    "    if np.any(np.abs(G[iy] - lambda_val * np.sign(beta[iy])) > tol):\n",
    "        return False\n",
    "    return True\n",
    "\n",
    "\n",
    "def lasso_cd(X, y, beta, lambda_val, tol=1e-6, max_iter=1000, quiet=False):\n",
    "    # note that the LS part  in this function is the one in slides divided by length(y) = n\n",
    "    # Or equivalently  lambda here = n * lambda in class\n",
    "\n",
    "    obj = np.zeros(max_iter + 1)\n",
    "    beta_list = [np.copy(beta)]\n",
    "\n",
    "    j = 0\n",
    "    for j in range(max_iter):\n",
    "        for k in range(beta.size):\n",
    "            r = y - np.delete(X, k, axis=1).dot(np.delete(beta, k))\n",
    "\n",
    "            beta[k] = (1 / (np.linalg.norm(X[:, k]) ** 2)) \\\n",
    "                      * soft_thresholding([r.T.dot(X[:, k])], [len(y) * lambda_val])\n",
    "        beta_list.append(np.copy(beta))\n",
    "        obj[j] = (1/2) * (1/len(y)) * np.linalg.norm(y - X.dot(beta)) ** 2 + lambda_val * np.sum(np.abs(beta))\n",
    "\n",
    "        if np.linalg.norm(beta_list[j] - beta) < tol:\n",
    "            break\n",
    "\n",
    "    check = lasso_kkt_check(X, y, beta, lambda_val)\n",
    "    if not quiet:\n",
    "        if check:\n",
    "            print(\"Minimum obtained\")\n",
    "        else:\n",
    "            print(\"Minimum not obtained\")\n",
    "\n",
    "    return {\n",
    "        'obj': obj[:j],\n",
    "        'beta': beta\n",
    "    }\n"
   ]
  },
  {
   "cell_type": "code",
   "execution_count": 2,
   "metadata": {
    "ExecuteTime": {
     "end_time": "2020-03-29T18:55:23.320999Z",
     "start_time": "2020-03-29T18:55:23.311155Z"
    }
   },
   "outputs": [],
   "source": [
    "# Model\n",
    "n = 50\n",
    "p = 400\n",
    "\n",
    "X = np.random.normal(size=(n, p))\n",
    "b = np.zeros(400)\n",
    "\n",
    "b[300:305] = np.arange(10, 0, -2)\n",
    "\n",
    "y = np.dot(X, b) + np.random.normal(size=(n,))\n",
    "y_new = np.dot(X, b) + np.random.normal(size=(n,))"
   ]
  },
  {
   "cell_type": "code",
   "execution_count": 16,
   "metadata": {
    "ExecuteTime": {
     "end_time": "2020-03-29T18:58:47.265047Z",
     "start_time": "2020-03-29T18:58:41.029547Z"
    }
   },
   "outputs": [
    {
     "name": "stdout",
     "output_type": "stream",
     "text": [
      "Minimum obtained\n",
      "6.232216835021973\n"
     ]
    }
   ],
   "source": [
    "start_time = time.time()\n",
    "re = lasso_cd(X, y, np.zeros(400), .1)\n",
    "end_time = time.time()\n",
    "print(end_time - start_time)"
   ]
  },
  {
   "cell_type": "code",
   "execution_count": 19,
   "metadata": {
    "ExecuteTime": {
     "end_time": "2020-03-29T18:59:18.672526Z",
     "start_time": "2020-03-29T18:59:17.862377Z"
    }
   },
   "outputs": [
    {
     "name": "stdout",
     "output_type": "stream",
     "text": [
      "Minimum obtained\n",
      "0.806614875793457\n"
     ]
    }
   ],
   "source": [
    "start_time = time.time()\n",
    "re = lasso_cd(X, y, np.zeros(400), 1)\n",
    "end_time = time.time()\n",
    "print(end_time - start_time)"
   ]
  },
  {
   "cell_type": "code",
   "execution_count": 20,
   "metadata": {
    "ExecuteTime": {
     "end_time": "2020-03-29T18:59:24.427766Z",
     "start_time": "2020-03-29T18:59:20.518397Z"
    }
   },
   "outputs": [
    {
     "name": "stdout",
     "output_type": "stream",
     "text": [
      "Minimum obtained\n",
      "3.9056928157806396\n"
     ]
    }
   ],
   "source": [
    "# warm start\n",
    "start_time = time.time()\n",
    "lasso_cd(X, y, re['beta'], 0.1)\n",
    "end_time = time.time()\n",
    "print(end_time - start_time)"
   ]
  }
 ],
 "metadata": {
  "kernelspec": {
   "display_name": "Python 3.7.3 64-bit ('pyr': conda)",
   "language": "python",
   "name": "python37364bitpyrconda45b5210c788940838c352579c0058f49"
  },
  "language_info": {
   "codemirror_mode": {
    "name": "ipython",
    "version": 3
   },
   "file_extension": ".py",
   "mimetype": "text/x-python",
   "name": "python",
   "nbconvert_exporter": "python",
   "pygments_lexer": "ipython3",
   "version": "3.7.3"
  },
  "toc": {
   "base_numbering": 1,
   "nav_menu": {},
   "number_sections": true,
   "sideBar": true,
   "skip_h1_title": false,
   "title_cell": "Table of Contents",
   "title_sidebar": "Contents",
   "toc_cell": false,
   "toc_position": {},
   "toc_section_display": true,
   "toc_window_display": false
  }
 },
 "nbformat": 4,
 "nbformat_minor": 2
}
