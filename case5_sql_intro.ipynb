{
 "cells": [
  {
   "cell_type": "code",
   "execution_count": null,
   "metadata": {},
   "outputs": [],
   "source": [
    "%%bash\n",
    "#install extensions\n",
    "pip install  ipython-sql\n",
    "conda install -c conda-forge nodejs\n",
    "pip install jupyterlab_sql"
   ]
  },
  {
   "cell_type": "markdown",
   "metadata": {},
   "source": [
    "# Import CSV data into Database\n",
    "For other databases other than sqlite, the process should be almost the same with some minor modifications to the commands below"
   ]
  },
  {
   "cell_type": "markdown",
   "metadata": {},
   "source": [
    "Please create the SQLite file under your own directory or you may copy the existing one hus5.sqlite from PUB5.\n",
    "\n",
    "install sqlite via command: \n",
    "\n",
    "    sudo apt-get install sqlite "
   ]
  },
  {
   "cell_type": "code",
   "execution_count": null,
   "metadata": {},
   "outputs": [],
   "source": [
    "%%sql\n",
    "\n",
    "################################################################\n",
    "# Mehod 1: Use SQLite commands\n",
    "################################################################\n",
    "# create table if necessary\n",
    "\n",
    "# hus5 table\n",
    "CREATE TABLE \"hus5\" (\"serialno\" integer,\"insp\" integer,\"RT\" text,\"DIVISION\" integer,\"PUMA00\" integer,\"PUMA10\" integer,\"REGION\" integer,\"ST\" integer,\"ADJHSG\" integer,\"ADJINC\" integer,\"WGTP\" integer,\"NP\" integer,\"TYPE\" integer,\"ACR\" integer,\"AGS\" integer,\"BATH\" integer,\"BDSP\" integer,\"BLD\" integer,\"BUS\" integer,\"CONP\" integer,\"ELEP\" integer,\"FS\" integer,\"FULP\" integer,\"GASP\" integer,\"HFL\" integer,\"MHP\" integer,\"MRGI\" integer,\"MRGP\" integer,\"MRGT\" integer,\"MRGX\" integer,\"REFR\" integer,\"RMSP\" integer,\"RNTM\" integer,\"RNTP\" integer,\"RWAT\" integer,\"RWATPR\" integer,\"SINK\" integer,\"SMP\" integer,\"STOV\" integer,\"TEL\" integer,\"TEN\" integer,\"TOIL\" integer,\"VACS\" integer,\"VALP\" integer,\"VEH\" integer,\"WATP\" integer,\"YBL\" integer,\"FES\" integer,\"FINCP\" integer,\"FPARC\" integer,\"GRNTP\" integer,\"GRPIP\" integer,\"HHL\" integer,\"HHT\" integer,\"HINCP\" integer,\"HUGCL\" integer,\"HUPAC\" integer,\"HUPAOC\" integer,\"HUPARC\" integer,\"KIT\" integer,\"LNGI\" integer,\"MULTG\" integer,\"MV\" integer,\"NOC\" integer,\"NPF\" integer,\"NPP\" integer,\"NR\" integer,\"NRC\" integer,\"OCPIP\" integer,\"PARTNER\" integer,\"PLM\" integer,\"PSF\" integer,\"R18\" integer,\"R60\" integer,\"R65\" integer,\"RESMODE\" integer,\"SMOCP\" integer,\"SMX\" integer,\"SRNT\" integer,\"SVAL\" integer,\"TAXP\" integer,\"WIF\" integer,\"WKEXREL\" integer,\"WORKSTAT\" integer,\"FACRP\" integer,\"FAGSP\" integer,\"FBATHP\" integer,\"FBDSP\" integer,\"FBLDP\" integer,\"FBUSP\" integer,\"FCONP\" integer,\"FELEP\" integer,\"FFSP\" integer,\"FFULP\" integer,\"FGASP\" integer,\"FHFLP\" integer,\"FINSP\" integer,\"FKITP\" integer,\"FMHP\" integer,\"FMRGIP\" integer,\"FMRGP\" integer,\"FMRGTP\" integer,\"FMRGXP\" integer,\"FMVP\" integer,\"FPLMP\" integer,\"FREFRP\" integer,\"FRMSP\" integer,\"FRNTMP\" integer,\"FRNTP\" integer,\"FRWATP\" integer,\"FRWATPRP\" integer,\"FSINKP\" integer,\"FSMP\" integer,\"FSMXHP\" integer,\"FSMXSP\" integer,\"FSTOVP\" integer,\"FTAXP\" integer,\"FTELP\" integer,\"FTENP\" integer,\"FTOILP\" integer,\"FVACSP\" integer,\"FVALP\" integer,\"FVEHP\" integer,\"FWATP\" integer,\"FYBLP\" integer,\"WGTP1\" integer,\"WGTP2\" integer,\"WGTP3\" integer,\"WGTP4\" integer,\"WGTP5\" integer,\"WGTP6\" integer,\"WGTP7\" integer,\"WGTP8\" integer,\"WGTP9\" integer,\"WGTP10\" integer,\"WGTP11\" integer,\"WGTP12\" integer,\"WGTP13\" integer,\"WGTP14\" integer,\"WGTP15\" integer,\"WGTP16\" integer,\"WGTP17\" integer,\"WGTP18\" integer,\"WGTP19\" integer,\"WGTP20\" integer,\"WGTP21\" integer,\"WGTP22\" integer,\"WGTP23\" integer,\"WGTP24\" integer,\"WGTP25\" integer,\"WGTP26\" integer,\"WGTP27\" integer,\"WGTP28\" integer,\"WGTP29\" integer,\"WGTP30\" integer,\"WGTP31\" integer,\"WGTP32\" integer,\"WGTP33\" integer,\"WGTP34\" integer,\"WGTP35\" integer,\"WGTP36\" integer,\"WGTP37\" integer,\"WGTP38\" integer,\"WGTP39\" integer,\"WGTP40\" integer,\"WGTP41\" integer,\"WGTP42\" integer,\"WGTP43\" integer,\"WGTP44\" integer,\"WGTP45\" integer,\"WGTP46\" integer,\"WGTP47\" integer,\"WGTP48\" integer,\"WGTP49\" integer,\"WGTP50\" integer,\"WGTP51\" integer,\"WGTP52\" integer,\"WGTP53\" integer,\"WGTP54\" integer,\"WGTP55\" integer,\"WGTP56\" integer,\"WGTP57\" integer,\"WGTP58\" integer,\"WGTP59\" integer,\"WGTP60\" integer,\"WGTP61\" integer,\"WGTP62\" integer,\"WGTP63\" integer,\"WGTP64\" integer,\"WGTP65\" integer,\"WGTP66\" integer,\"WGTP67\" integer,\"WGTP68\" integer,\"WGTP69\" integer,\"WGTP70\" integer,\"WGTP71\" integer,\"WGTP72\" integer,\"WGTP73\" integer,\"WGTP74\" integer,\"WGTP75\" integer,\"WGTP76\" integer,\"WGTP77\" integer,\"WGTP78\" integer,\"WGTP79\" integer,\"WGTP80\" integer);\n",
    "\n",
    "\n",
    "# pus5 table\n",
    "CREATE TABLE pus5 (\"serialno\" integer,\"RT\" text,\"SPORDER\" integer,\"PUMA00\" integer,\"PUMA10\" integer,\"ST\" integer,\"ADJINC\" integer,\"PWGTP\" integer,\"AGEP\" integer,\"CIT\" integer,\"CITWP05\" integer,\"CITWP12\" integer,\"COW\" integer,\"DDRS\" integer,\"DEAR\" integer,\"DEYE\" integer,\"DOUT\" integer,\"DPHY\" integer,\"DRAT\" integer,\"DRATX\" integer,\"DREM\" integer,\"ENG\" integer,\"FER\" integer,\"GCL\" integer,\"GCM\" integer,\"GCR\" integer,\"HINS1\" integer,\"HINS2\" integer,\"HINS3\" integer,\"HINS4\" integer,\"HINS5\" integer,\"HINS6\" integer,\"HINS7\" integer,\"INTP\" integer,\"JWMNP\" integer,\"JWRIP\" integer,\"JWTR\" integer,\"LANX\" integer,\"MAR\" integer,\"MARHD\" integer,\"MARHM\" integer,\"MARHT\" integer,\"MARHW\" integer,\"MARHYP05\" integer,\"MARHYP12\" integer,\"MIG\" integer,\"MIL\" integer,\"MLPA\" integer,\"MLPB\" integer,\"MLPCD\" integer,\"MLPE\" integer,\"MLPFG\" integer,\"MLPH\" integer,\"MLPI\" integer,\"MLPJ\" integer,\"MLPK\" integer,\"NWAB\" integer,\"NWAV\" integer,\"NWLA\" integer,\"NWLK\" integer,\"NWRE\" integer,\"OIP\" integer,\"PAP\" integer,\"RELP\" integer,\"RETP\" integer,\"SCH\" integer,\"SCHG\" integer,\"SCHL\" integer,\"SEMP\" integer,\"SEX\" integer,\"SSIP\" integer,\"SSP\" integer,\"WAGP\" integer,\"WKHP\" integer,\"WKL\" integer,\"WKW\" integer,\"WRK\" integer,\"YOEP05\" integer,\"YOEP12\" integer,\"ANC\" integer,\"ANC1P05\" integer,\"ANC1P12\" integer,\"ANC2P05\" integer,\"ANC2P12\" integer,\"DECADE\" integer,\"DIS\" integer,\"DRIVESP\" integer,\"ESP\" integer,\"ESR\" integer,\"FOD1P\" integer,\"FOD2P\" integer,\"HICOV\" integer,\"HISP\" integer,\"INDP\" integer,\"JWAP\" integer,\"JWDP\" integer,\"LANP05\" integer,\"LANP12\" integer,\"MIGPUMA00\" integer,\"MIGPUMA10\" integer,\"MIGSP05\" integer,\"MIGSP12\" integer,\"MSP\" integer,\"NAICSP\" text,\"NATIVITY\" integer,\"NOP\" integer,\"OC\" integer,\"OCCP10\" integer,\"OCCP12\" text,\"PAOC\" integer,\"PERNP\" integer,\"PINCP\" integer,\"POBP05\" integer,\"POBP12\" integer,\"POVPIP\" integer,\"POWPUMA00\" integer,\"POWPUMA10\" integer,\"POWSP05\" integer,\"POWSP12\" integer,\"PRIVCOV\" integer,\"PUBCOV\" integer,\"QTRBIR\" integer,\"RAC1P\" integer,\"RAC2P05\" integer,\"RAC2P12\" integer,\"RAC3P05\" integer,\"RAC3P12\" integer,\"RACAIAN\" integer,\"RACASN\" integer,\"RACBLK\" integer,\"RACNHPI\" integer,\"RACNUM\" integer,\"RACSOR\" integer,\"RACWHT\" integer,\"RC\" integer,\"SCIENGP\" integer,\"SCIENGRLP\" integer,\"SFN\" integer,\"SFR\" integer,\"SOCP10\" text,\"SOCP12\" text,\"VPS\" integer,\"WAOB\" integer,\"FAGEP\" integer,\"FANCP\" integer,\"FCITP\" integer,\"FCITWP\" integer,\"FCOWP\" integer,\"FDDRSP\" integer,\"FDEARP\" integer,\"FDEYEP\" integer,\"FDISP\" integer,\"FDOUTP\" integer,\"FDPHYP\" integer,\"FDRATP\" integer,\"FDRATXP\" integer,\"FDREMP\" integer,\"FENGP\" integer,\"FESRP\" integer,\"FFERP\" integer,\"FFODP\" integer,\"FGCLP\" integer,\"FGCMP\" integer,\"FGCRP\" integer,\"FHINS1P\" integer,\"FHINS2P\" integer,\"FHINS3C\" integer,\"FHINS3P\" integer,\"FHINS4C\" integer,\"FHINS4P\" integer,\"FHINS5C\" integer,\"FHINS5P\" integer,\"FHINS6P\" integer,\"FHINS7P\" integer,\"FHISP\" integer,\"FINDP\" integer,\"FINTP\" integer,\"FJWDP\" integer,\"FJWMNP\" integer,\"FJWRIP\" integer,\"FJWTRP\" integer,\"FLANP\" integer,\"FLANXP\" integer,\"FMARHDP\" integer,\"FMARHMP\" integer,\"FMARHTP\" integer,\"FMARHWP\" integer,\"FMARHYP\" integer,\"FMARP\" integer,\"FMIGP\" integer,\"FMIGSP\" integer,\"FMILPP\" integer,\"FMILSP\" integer,\"FOCCP\" integer,\"FOIP\" integer,\"FPAP\" integer,\"FPERNP\" integer,\"FPINCP\" integer,\"FPOBP\" integer,\"FPOWSP\" integer,\"FPRIVCOVP\" integer,\"FPUBCOVP\" integer,\"FRACP\" integer,\"FRELP\" integer,\"FRETP\" integer,\"FSCHGP\" integer,\"FSCHLP\" integer,\"FSCHP\" integer,\"FSEMP\" integer,\"FSEXP\" integer,\"FSSIP\" integer,\"FSSP\" integer,\"FWAGP\" integer,\"FWKHP\" integer,\"FWKLP\" integer,\"FWKWP\" integer,\"FWRKP\" integer,\"FYOEP\" integer,\"PWGTP1\" integer,\"PWGTP2\" integer,\"PWGTP3\" integer,\"PWGTP4\" integer,\"PWGTP5\" integer,\"PWGTP6\" integer,\"PWGTP7\" integer,\"PWGTP8\" integer,\"PWGTP9\" integer,\"PWGTP10\" integer,\"PWGTP11\" integer,\"PWGTP12\" integer,\"PWGTP13\" integer,\"PWGTP14\" integer,\"PWGTP15\" integer,\"PWGTP16\" integer,\"PWGTP17\" integer,\"PWGTP18\" integer,\"PWGTP19\" integer,\"PWGTP20\" integer,\"PWGTP21\" integer,\"PWGTP22\" integer,\"PWGTP23\" integer,\"PWGTP24\" integer,\"PWGTP25\" integer,\"PWGTP26\" integer,\"PWGTP27\" integer,\"PWGTP28\" integer,\"PWGTP29\" integer,\"PWGTP30\" integer,\"PWGTP31\" integer,\"PWGTP32\" integer,\"PWGTP33\" integer,\"PWGTP34\" integer,\"PWGTP35\" integer,\"PWGTP36\" integer,\"PWGTP37\" integer,\"PWGTP38\" integer,\"PWGTP39\" integer,\"PWGTP40\" integer,\"PWGTP41\" integer,\"PWGTP42\" integer,\"PWGTP43\" integer,\"PWGTP44\" integer,\"PWGTP45\" integer,\"PWGTP46\" integer,\"PWGTP47\" integer,\"PWGTP48\" integer,\"PWGTP49\" integer,\"PWGTP50\" integer,\"PWGTP51\" integer,\"PWGTP52\" integer,\"PWGTP53\" integer,\"PWGTP54\" integer,\"PWGTP55\" integer,\"PWGTP56\" integer,\"PWGTP57\" integer,\"PWGTP58\" integer,\"PWGTP59\" integer,\"PWGTP60\" integer,\"PWGTP61\" integer,\"PWGTP62\" integer,\"PWGTP63\" integer,\"PWGTP64\" integer,\"PWGTP65\" integer,\"PWGTP66\" integer,\"PWGTP67\" integer,\"PWGTP68\" integer,\"PWGTP69\" integer,\"PWGTP70\" integer,\"PWGTP71\" integer,\"PWGTP72\" integer,\"PWGTP73\" integer,\"PWGTP74\" integer,\"PWGTP75\" integer,\"PWGTP76\" integer,\"PWGTP77\" integer,\"PWGTP78\" integer,\"PWGTP79\" integer,\"PWGTP80\" integer);\n",
    "\n",
    "\n",
    "# in SQLite: These are maintenace functions, don't end with ;\n",
    ".separator ','\n",
    ".import ss13pus_all.csv pus5\n",
    ".import ss13hus_all.csv hus5\n",
    "\n",
    "# remove header\n",
    "delete from pus5 where serialno='serialno';\n",
    "\n",
    "delete from hus5 where serialno='serialno';\n",
    "\n"
   ]
  },
  {
   "cell_type": "code",
   "execution_count": null,
   "metadata": {},
   "outputs": [],
   "source": [
    "%%bash\n",
    "################################################################\n",
    "# method 2: load the csv file by csv2sqlite\n",
    "################################################################\n",
    "# Such high level approaches may not always work\n",
    "# That's why we  introduced some fundamental knowledge about SQL\n",
    "\n",
    "# obtaining the software from github \n",
    "git clone https://github.com/rgrp/csv2sqlite.git\n",
    "\n",
    "# load data:\n",
    "../csv2sqlite/csv2sqlite.py ss13pus_all.csv pub5.db pus5\n"
   ]
  },
  {
   "cell_type": "markdown",
   "metadata": {},
   "source": [
    "# Query data"
   ]
  },
  {
   "cell_type": "code",
   "execution_count": 1,
   "metadata": {
    "ExecuteTime": {
     "end_time": "2020-03-24T16:04:56.486549Z",
     "start_time": "2020-03-24T16:04:55.883035Z"
    }
   },
   "outputs": [],
   "source": [
    "%load_ext sql"
   ]
  },
  {
   "cell_type": "code",
   "execution_count": null,
   "metadata": {},
   "outputs": [],
   "source": []
  },
  {
   "cell_type": "code",
   "execution_count": null,
   "metadata": {},
   "outputs": [],
   "source": [
    "%%sql\n",
    "-- running SQLite: sqlite or sqlite3  hus5.sqlite \n",
    "-- File is under\n",
    "\n",
    "-- list tables\n",
    ".tables\n",
    "\n",
    "-- how table looks\n",
    ".schema hus5\n",
    "\n",
    "-- check first 10 records\n",
    "select * from hus5 limit 10;\n",
    "\n",
    "-- Check the bath room\n",
    "select BATH from hus5 limit 10;\n",
    "\n",
    "\n",
    "-- Pick two variables\n",
    "select serialno, BATH from hus5 order by serialno limit 10;\n",
    "\n",
    "-- count how many records \n",
    "select count(*)  from hus5;\n",
    "\n",
    "\n",
    "-- find unique values\n",
    "select distinct BATH  from hus5;\n",
    "\n",
    "-- count how many missing for BATH\n",
    "select count(BATH) from hus5 where  BATH is NULL;\n",
    "\n",
    "select count(*) from hus5 where  BATH is NULL;\n",
    "\n",
    "select count(*) from hus5 where BATH is not  NULL;\n",
    "\n",
    "# the numbers may be treated as strings \n",
    "select count(*) from hus5 where BATH is \"\";\n",
    "select count(*) from hus5 where BATH is \"1\";\n",
    "\n",
    "\n",
    "-- count how many with bath == 1 or 2\n",
    "select sum(BATH=1) as b1, sum(BATH=2) as b2 from hus5;\n",
    "\n",
    "select sum(BATH=\"1\") as b1, sum(BATH=\"2\") as b2 from hus5;\n",
    "\n",
    "\n",
    "-- find the serial number (ordered) where BATH is null\n",
    "select serialno, BATH from hus5 where BATH is null order by serialno;\n",
    "\n",
    "select serialno, BATH from hus5 where BATH is \"\" order by serialno;\n",
    "\n",
    "\n",
    "-- Find  the number of records in 2013 with BATH is NULL\n",
    ".timer ON\n",
    "select count(*) from hus5 where BATH is '' and serialno>=2013000000000 and serialno<2014000000000; \n",
    "\n",
    "\n",
    "-- An complicated way to show subquery\n",
    ".timer ON\n",
    "select count(*)\n",
    "from ( select * from hus5 where BATH is '')\n",
    "where serialno>=2013000000000 and serialno<2014000000000;\n"
   ]
  }
 ],
 "metadata": {
  "kernelspec": {
   "display_name": "Python 3.7.3 64-bit ('pyr': conda)",
   "language": "python",
   "name": "python37364bitpyrconda45b5210c788940838c352579c0058f49"
  },
  "language_info": {
   "codemirror_mode": {
    "name": "ipython",
    "version": 3
   },
   "file_extension": ".py",
   "mimetype": "text/x-python",
   "name": "python",
   "nbconvert_exporter": "python",
   "pygments_lexer": "ipython3",
   "version": "3.7.3"
  },
  "toc": {
   "base_numbering": 1,
   "nav_menu": {},
   "number_sections": true,
   "sideBar": true,
   "skip_h1_title": false,
   "title_cell": "Table of Contents",
   "title_sidebar": "Contents",
   "toc_cell": false,
   "toc_position": {},
   "toc_section_display": true,
   "toc_window_display": false
  }
 },
 "nbformat": 4,
 "nbformat_minor": 2
}
